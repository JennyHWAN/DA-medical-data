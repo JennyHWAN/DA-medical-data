{
 "cells": [
  {
   "cell_type": "code",
   "execution_count": 1,
   "id": "e887bda0",
   "metadata": {},
   "outputs": [],
   "source": [
    "import pandas as pd\n",
    "import re"
   ]
  },
  {
   "cell_type": "markdown",
   "id": "31733d07",
   "metadata": {},
   "source": [
    "# General overview"
   ]
  },
  {
   "cell_type": "code",
   "execution_count": 2,
   "id": "2220896f",
   "metadata": {},
   "outputs": [],
   "source": [
    "df = pd.read_excel(r'C:\\Users\\LN743MY\\Documents\\EY\\personal stuff\\AI Launch Pad\\data_cleaning_and_analysis.xlsx')"
   ]
  },
  {
   "cell_type": "code",
   "execution_count": 3,
   "id": "86f45785",
   "metadata": {},
   "outputs": [
    {
     "name": "stdout",
     "output_type": "stream",
     "text": [
      "<class 'pandas.core.frame.DataFrame'>\n",
      "RangeIndex: 158 entries, 0 to 157\n",
      "Data columns (total 12 columns):\n",
      " #   Column                           Non-Null Count  Dtype \n",
      "---  ------                           --------------  ----- \n",
      " 0   provider-name__lnk               157 non-null    object\n",
      " 1   provider-details__specialty      157 non-null    object\n",
      " 2   sr-only                          157 non-null    object\n",
      " 3   star-rating__reviews             157 non-null    object\n",
      " 4   sr-only 2                        124 non-null    object\n",
      " 5   location-info__office-loc        157 non-null    object\n",
      " 6   location-info__office-loc 2      157 non-null    object\n",
      " 7   feats-of-strength__feat-title    120 non-null    object\n",
      " 8   feats-of-strength__feat-title 2  106 non-null    object\n",
      " 9   feats-of-strength__feat-title 3  104 non-null    object\n",
      " 10  location-info__distance 2        157 non-null    object\n",
      " 11  star-rating href                 33 non-null     object\n",
      "dtypes: object(12)\n",
      "memory usage: 14.9+ KB\n"
     ]
    }
   ],
   "source": [
    "df.info()"
   ]
  },
  {
   "cell_type": "code",
   "execution_count": 4,
   "id": "c35aa34d",
   "metadata": {},
   "outputs": [],
   "source": [
    "file = pd.ExcelFile(r'C:\\Users\\LN743MY\\Documents\\EY\\personal stuff\\AI Launch Pad\\data_cleaning_and_analysis.xlsx')"
   ]
  },
  {
   "cell_type": "code",
   "execution_count": 5,
   "id": "25b56014",
   "metadata": {},
   "outputs": [
    {
     "data": {
      "text/plain": [
       "['Indiana', 'Missouri', 'Iowa', 'Wisconsin', 'Nebraska', 'Kansas', 'Illinois']"
      ]
     },
     "execution_count": 5,
     "metadata": {},
     "output_type": "execute_result"
    }
   ],
   "source": [
    "names = file.sheet_names\n",
    "names"
   ]
  },
  {
   "cell_type": "code",
   "execution_count": 6,
   "id": "9bd114f7",
   "metadata": {},
   "outputs": [],
   "source": [
    "sheet = {}\n",
    "for i in range(len(names)):\n",
    "    sheet[names[i]] = file.parse(i, header = None, index = False)"
   ]
  },
  {
   "cell_type": "code",
   "execution_count": 7,
   "id": "0c953eec",
   "metadata": {},
   "outputs": [
    {
     "name": "stdout",
     "output_type": "stream",
     "text": [
      "<class 'pandas.core.frame.DataFrame'>\n",
      "RangeIndex: 159 entries, 0 to 158\n",
      "Data columns (total 12 columns):\n",
      " #   Column  Non-Null Count  Dtype \n",
      "---  ------  --------------  ----- \n",
      " 0   0       158 non-null    object\n",
      " 1   1       158 non-null    object\n",
      " 2   2       158 non-null    object\n",
      " 3   3       158 non-null    object\n",
      " 4   4       125 non-null    object\n",
      " 5   5       158 non-null    object\n",
      " 6   6       158 non-null    object\n",
      " 7   7       121 non-null    object\n",
      " 8   8       107 non-null    object\n",
      " 9   9       105 non-null    object\n",
      " 10  10      158 non-null    object\n",
      " 11  11      34 non-null     object\n",
      "dtypes: object(12)\n",
      "memory usage: 15.0+ KB\n",
      "<class 'pandas.core.frame.DataFrame'>\n",
      "RangeIndex: 112 entries, 0 to 111\n",
      "Data columns (total 14 columns):\n",
      " #   Column  Non-Null Count  Dtype \n",
      "---  ------  --------------  ----- \n",
      " 0   0       35 non-null     object\n",
      " 1   1       112 non-null    object\n",
      " 2   2       112 non-null    object\n",
      " 3   3       112 non-null    object\n",
      " 4   4       112 non-null    object\n",
      " 5   5       112 non-null    object\n",
      " 6   6       85 non-null     object\n",
      " 7   7       112 non-null    object\n",
      " 8   8       112 non-null    object\n",
      " 9   9       112 non-null    object\n",
      " 10  10      76 non-null     object\n",
      " 11  11      69 non-null     object\n",
      " 12  12      65 non-null     object\n",
      " 13  13      28 non-null     object\n",
      "dtypes: object(14)\n",
      "memory usage: 12.4+ KB\n",
      "<class 'pandas.core.frame.DataFrame'>\n",
      "RangeIndex: 47 entries, 0 to 46\n",
      "Data columns (total 13 columns):\n",
      " #   Column  Non-Null Count  Dtype \n",
      "---  ------  --------------  ----- \n",
      " 0   0       30 non-null     object\n",
      " 1   1       47 non-null     object\n",
      " 2   2       47 non-null     object\n",
      " 3   3       47 non-null     object\n",
      " 4   4       47 non-null     object\n",
      " 5   5       47 non-null     object\n",
      " 6   6       44 non-null     object\n",
      " 7   7       47 non-null     object\n",
      " 8   8       47 non-null     object\n",
      " 9   9       47 non-null     object\n",
      " 10  10      41 non-null     object\n",
      " 11  11      41 non-null     object\n",
      " 12  12      38 non-null     object\n",
      "dtypes: object(13)\n",
      "memory usage: 4.9+ KB\n",
      "<class 'pandas.core.frame.DataFrame'>\n",
      "RangeIndex: 663 entries, 0 to 662\n",
      "Data columns (total 15 columns):\n",
      " #   Column  Non-Null Count  Dtype \n",
      "---  ------  --------------  ----- \n",
      " 0   0       40 non-null     object\n",
      " 1   1       662 non-null    object\n",
      " 2   2       662 non-null    object\n",
      " 3   3       662 non-null    object\n",
      " 4   4       662 non-null    object\n",
      " 5   5       662 non-null    object\n",
      " 6   6       450 non-null    object\n",
      " 7   7       662 non-null    object\n",
      " 8   8       662 non-null    object\n",
      " 9   9       662 non-null    object\n",
      " 10  10      415 non-null    object\n",
      " 11  11      371 non-null    object\n",
      " 12  12      333 non-null    object\n",
      " 13  13      213 non-null    object\n",
      " 14  14      1 non-null      object\n",
      "dtypes: object(15)\n",
      "memory usage: 77.8+ KB\n",
      "<class 'pandas.core.frame.DataFrame'>\n",
      "RangeIndex: 42 entries, 0 to 41\n",
      "Data columns (total 13 columns):\n",
      " #   Column  Non-Null Count  Dtype \n",
      "---  ------  --------------  ----- \n",
      " 0   0       26 non-null     object\n",
      " 1   1       42 non-null     object\n",
      " 2   2       42 non-null     object\n",
      " 3   3       42 non-null     object\n",
      " 4   4       42 non-null     object\n",
      " 5   5       42 non-null     object\n",
      " 6   6       36 non-null     object\n",
      " 7   7       42 non-null     object\n",
      " 8   8       42 non-null     object\n",
      " 9   9       42 non-null     object\n",
      " 10  10      33 non-null     object\n",
      " 11  11      29 non-null     object\n",
      " 12  12      28 non-null     object\n",
      "dtypes: object(13)\n",
      "memory usage: 4.4+ KB\n",
      "<class 'pandas.core.frame.DataFrame'>\n",
      "RangeIndex: 144 entries, 0 to 143\n",
      "Data columns (total 16 columns):\n",
      " #   Column  Non-Null Count  Dtype \n",
      "---  ------  --------------  ----- \n",
      " 0   0       127 non-null    object\n",
      " 1   1       139 non-null    object\n",
      " 2   2       139 non-null    object\n",
      " 3   3       139 non-null    object\n",
      " 4   4       139 non-null    object\n",
      " 5   5       112 non-null    object\n",
      " 6   6       134 non-null    object\n",
      " 7   7       139 non-null    object\n",
      " 8   8       139 non-null    object\n",
      " 9   9       103 non-null    object\n",
      " 10  10      90 non-null     object\n",
      " 11  11      84 non-null     object\n",
      " 12  12      44 non-null     object\n",
      " 13  13      8 non-null      object\n",
      " 14  14      7 non-null      object\n",
      " 15  15      7 non-null      object\n",
      "dtypes: object(16)\n",
      "memory usage: 18.1+ KB\n",
      "<class 'pandas.core.frame.DataFrame'>\n",
      "RangeIndex: 284 entries, 0 to 283\n",
      "Data columns (total 13 columns):\n",
      " #   Column  Non-Null Count  Dtype \n",
      "---  ------  --------------  ----- \n",
      " 0   0       283 non-null    object\n",
      " 1   1       283 non-null    object\n",
      " 2   2       283 non-null    object\n",
      " 3   3       283 non-null    object\n",
      " 4   4       283 non-null    object\n",
      " 5   5       190 non-null    object\n",
      " 6   6       283 non-null    object\n",
      " 7   7       283 non-null    object\n",
      " 8   8       283 non-null    object\n",
      " 9   9       175 non-null    object\n",
      " 10  10      156 non-null    object\n",
      " 11  11      147 non-null    object\n",
      " 12  12      94 non-null     object\n",
      "dtypes: object(13)\n",
      "memory usage: 29.0+ KB\n"
     ]
    }
   ],
   "source": [
    "for i in range(len(sheet)):\n",
    "    sheet[names[i]].info()"
   ]
  },
  {
   "cell_type": "markdown",
   "id": "0e6e073e",
   "metadata": {},
   "source": [
    "# Cleaning"
   ]
  },
  {
   "cell_type": "code",
   "execution_count": 8,
   "id": "78343034",
   "metadata": {},
   "outputs": [
    {
     "data": {
      "text/plain": [
       "0                                    Dr. Levi Young, MD\n",
       "1     https://www.healthgrades.com/physician/dr-levi...\n",
       "2            Cosmetic, Plastic & Reconstructive Surgery\n",
       "3                             Rated 4.5 out of 5 stars,\n",
       "4                                            33 ratings\n",
       "5                                                  with\n",
       "6                                       4749 W 134th St\n",
       "7                                     Leawood, KS 66209\n",
       "8                                               15.7 mi\n",
       "9                                     Offers Telehealth\n",
       "10                                      Easy scheduling\n",
       "11                               Employs friendly staff\n",
       "12                                                  NaN\n",
       "13                                                  NaN\n",
       "14                                                  NaN\n",
       "15                                                  NaN\n",
       "Name: 6, dtype: object"
      ]
     },
     "execution_count": 8,
     "metadata": {},
     "output_type": "execute_result"
    }
   ],
   "source": [
    "# # test case\n",
    "sheet['Indiana'].iloc[158, :].isna().to_list()\n",
    "len(sheet['Indiana'])\n",
    "# sheet['Kansas'].info()\n",
    "# # sheet['Kansas'].drop(0, inplace=True)\n",
    "# # sheet['Kansas']\n",
    "len(sheet['Kansas'])\n",
    "sheet['Kansas'].iloc[136, :].isna().to_list()\n",
    "sheet['Kansas'].iloc[6, :]"
   ]
  },
  {
   "cell_type": "code",
   "execution_count": 9,
   "id": "c50b3875",
   "metadata": {},
   "outputs": [
    {
     "data": {
      "text/plain": [
       "{5: [0, 4, 114, 115], 6: [3]}"
      ]
     },
     "execution_count": 9,
     "metadata": {},
     "output_type": "execute_result"
    }
   ],
   "source": [
    "# try to delete empty rows\n",
    "drop_lst = {}\n",
    "for i in range(len(sheet)):\n",
    "    for x in range(len(sheet[names[i]])):\n",
    "        lst = sheet[names[i]].iloc[x, :].isna().to_list()\n",
    "        for j in range(len(lst)):\n",
    "            if lst[j] == False:\n",
    "                break\n",
    "            if j == len(lst) - 1 and lst[j] == True:\n",
    "                if i not in drop_lst:\n",
    "                    drop_lst[i] = [x]\n",
    "                else:\n",
    "                    drop_lst[i].append(x)\n",
    "drop_lst"
   ]
  },
  {
   "cell_type": "code",
   "execution_count": 10,
   "id": "92b68c99",
   "metadata": {},
   "outputs": [
    {
     "name": "stdout",
     "output_type": "stream",
     "text": [
      "<class 'pandas.core.frame.DataFrame'>\n",
      "Int64Index: 140 entries, 1 to 143\n",
      "Data columns (total 16 columns):\n",
      " #   Column  Non-Null Count  Dtype \n",
      "---  ------  --------------  ----- \n",
      " 0   0       127 non-null    object\n",
      " 1   1       139 non-null    object\n",
      " 2   2       139 non-null    object\n",
      " 3   3       139 non-null    object\n",
      " 4   4       139 non-null    object\n",
      " 5   5       112 non-null    object\n",
      " 6   6       134 non-null    object\n",
      " 7   7       139 non-null    object\n",
      " 8   8       139 non-null    object\n",
      " 9   9       103 non-null    object\n",
      " 10  10      90 non-null     object\n",
      " 11  11      84 non-null     object\n",
      " 12  12      44 non-null     object\n",
      " 13  13      8 non-null      object\n",
      " 14  14      7 non-null      object\n",
      " 15  15      7 non-null      object\n",
      "dtypes: object(16)\n",
      "memory usage: 18.6+ KB\n",
      "<class 'pandas.core.frame.DataFrame'>\n",
      "Int64Index: 283 entries, 0 to 283\n",
      "Data columns (total 13 columns):\n",
      " #   Column  Non-Null Count  Dtype \n",
      "---  ------  --------------  ----- \n",
      " 0   0       283 non-null    object\n",
      " 1   1       283 non-null    object\n",
      " 2   2       283 non-null    object\n",
      " 3   3       283 non-null    object\n",
      " 4   4       283 non-null    object\n",
      " 5   5       190 non-null    object\n",
      " 6   6       283 non-null    object\n",
      " 7   7       283 non-null    object\n",
      " 8   8       283 non-null    object\n",
      " 9   9       175 non-null    object\n",
      " 10  10      156 non-null    object\n",
      " 11  11      147 non-null    object\n",
      " 12  12      94 non-null     object\n",
      "dtypes: object(13)\n",
      "memory usage: 31.0+ KB\n"
     ]
    }
   ],
   "source": [
    "# delete empty rows\n",
    "for idx in drop_lst:\n",
    "    sheet[names[idx]].drop(labels=drop_lst[idx], inplace=True)\n",
    "    sheet[names[idx]].info()"
   ]
  },
  {
   "cell_type": "code",
   "execution_count": 11,
   "id": "467a5337",
   "metadata": {},
   "outputs": [],
   "source": [
    "# set sheet number to each sheet's content\n",
    "for i in range(len(names)):\n",
    "    vars()['sheet'+str(i + 1)] = sheet[names[i]].rename(columns=sheet[names[i]].iloc[0]).loc[1:]"
   ]
  },
  {
   "cell_type": "code",
   "execution_count": 12,
   "id": "5ca4df44",
   "metadata": {},
   "outputs": [
    {
     "name": "stdout",
     "output_type": "stream",
     "text": [
      "<class 'pandas.core.frame.DataFrame'>\n",
      "RangeIndex: 158 entries, 1 to 158\n",
      "Data columns (total 12 columns):\n",
      " #   Column                           Non-Null Count  Dtype \n",
      "---  ------                           --------------  ----- \n",
      " 0   provider-name__lnk               157 non-null    object\n",
      " 1   provider-details__specialty      157 non-null    object\n",
      " 2   sr-only                          157 non-null    object\n",
      " 3   star-rating__reviews             157 non-null    object\n",
      " 4   sr-only 2                        124 non-null    object\n",
      " 5   location-info__office-loc        157 non-null    object\n",
      " 6   location-info__office-loc 2      157 non-null    object\n",
      " 7   feats-of-strength__feat-title    120 non-null    object\n",
      " 8   feats-of-strength__feat-title 2  106 non-null    object\n",
      " 9   feats-of-strength__feat-title 3  104 non-null    object\n",
      " 10  location-info__distance 2        157 non-null    object\n",
      " 11  star-rating href                 33 non-null     object\n",
      "dtypes: object(12)\n",
      "memory usage: 14.9+ KB\n"
     ]
    }
   ],
   "source": [
    "sheet1.info()"
   ]
  },
  {
   "cell_type": "code",
   "execution_count": 13,
   "id": "3ec6d406",
   "metadata": {},
   "outputs": [
    {
     "data": {
      "text/plain": [
       "'Rated 5 out of 5 stars,'"
      ]
     },
     "execution_count": 13,
     "metadata": {},
     "output_type": "execute_result"
    }
   ],
   "source": [
    "sheet1['sr-only'].iloc[1]"
   ]
  },
  {
   "cell_type": "code",
   "execution_count": 14,
   "id": "47f94909",
   "metadata": {},
   "outputs": [
    {
     "data": {
      "text/plain": [
       "['5', '5']"
      ]
     },
     "execution_count": 14,
     "metadata": {},
     "output_type": "execute_result"
    }
   ],
   "source": [
    "re.findall(\"\\d+\", sheet1['sr-only'].iloc[1])"
   ]
  },
  {
   "cell_type": "code",
   "execution_count": 15,
   "id": "d4d9331a",
   "metadata": {},
   "outputs": [
    {
     "data": {
      "text/plain": [
       "158"
      ]
     },
     "execution_count": 15,
     "metadata": {},
     "output_type": "execute_result"
    }
   ],
   "source": [
    "len(sheet1['sr-only'])"
   ]
  },
  {
   "cell_type": "code",
   "execution_count": 16,
   "id": "73c156b8",
   "metadata": {},
   "outputs": [
    {
     "data": {
      "text/plain": [
       "True"
      ]
     },
     "execution_count": 16,
     "metadata": {},
     "output_type": "execute_result"
    }
   ],
   "source": [
    "test = []\n",
    "len(test) == 0"
   ]
  },
  {
   "cell_type": "code",
   "execution_count": 17,
   "id": "7e59ef8c",
   "metadata": {},
   "outputs": [],
   "source": [
    "# test case\n",
    "for i in range(len(sheet1['sr-only'])):\n",
    "#     sheet1['sr-only'].iloc[i]\n",
    "    new = re.findall(\"\\d+\\.\\d+\", str(sheet1['sr-only'].iloc[i]))\n",
    "    if len(new) == 0:\n",
    "        if len(re.findall(\"\\d+\", str(sheet1['sr-only'].iloc[i]))) == 0:\n",
    "            new = [sheet1['sr-only'].iloc[i]]\n",
    "        else:\n",
    "            new.append(re.findall(\"\\d+\", str(sheet1['sr-only'].iloc[i]))[0])\n",
    "    sheet1['sr-only'].iloc[i] = new[0]"
   ]
  },
  {
   "cell_type": "code",
   "execution_count": 22,
   "id": "95994bb6",
   "metadata": {},
   "outputs": [],
   "source": [
    "# pd.to_numeric(sheet1['sr-only'])"
   ]
  },
  {
   "cell_type": "code",
   "execution_count": 29,
   "id": "4eed24b3",
   "metadata": {},
   "outputs": [
    {
     "data": {
      "text/plain": [
       "158"
      ]
     },
     "execution_count": 29,
     "metadata": {},
     "output_type": "execute_result"
    }
   ],
   "source": [
    "len(sheet1['provider-name__lnk'].unique())"
   ]
  },
  {
   "cell_type": "code",
   "execution_count": null,
   "id": "17eb09b9",
   "metadata": {},
   "outputs": [],
   "source": [
    "# extract star-rating__reviews column"
   ]
  }
 ],
 "metadata": {
  "kernelspec": {
   "display_name": "Python 3 (ipykernel)",
   "language": "python",
   "name": "python3"
  },
  "language_info": {
   "codemirror_mode": {
    "name": "ipython",
    "version": 3
   },
   "file_extension": ".py",
   "mimetype": "text/x-python",
   "name": "python",
   "nbconvert_exporter": "python",
   "pygments_lexer": "ipython3",
   "version": "3.9.13"
  }
 },
 "nbformat": 4,
 "nbformat_minor": 5
}
