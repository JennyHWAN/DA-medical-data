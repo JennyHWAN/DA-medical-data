{
 "cells": [
  {
   "cell_type": "code",
   "execution_count": 89,
   "id": "9c63ecc2",
   "metadata": {},
   "outputs": [],
   "source": [
    "import pandas as pd\n",
    "import scipy.stats as sps\n",
    "from fitter import Fitter, get_common_distributions, get_distributions\n",
    "from pathlib import Path\n",
    "import matplotlib.pyplot as plt\n",
    "import seaborn as sns\n",
    "from sklearn.feature_selection import f_classif, chi2\n",
    "from sklearn.feature_selection import SelectKBest\n",
    "from sklearn.model_selection import train_test_split\n",
    "from sklearn.preprocessing import OrdinalEncoder\n",
    "from sklearn.preprocessing import LabelEncoder\n",
    "from sklearn.feature_selection import RFE\n",
    "from sklearn.tree import DecisionTreeRegressor\n",
    "from sklearn.tree import DecisionTreeClassifier\n",
    "from sklearn.metrics import accuracy_score # for classification problem\n",
    "from sklearn.metrics import mean_absolute_error\n",
    "from sklearn.model_selection import cross_val_score\n",
    "from sklearn.model_selection import RepeatedKFold\n",
    "from sklearn.model_selection import RepeatedStratifiedKFold\n",
    "from sklearn.pipeline import Pipeline\n",
    "import numpy as np\n",
    "from numpy import mean\n",
    "from numpy import std\n",
    "from numpy import absolute"
   ]
  },
  {
   "cell_type": "code",
   "execution_count": 2,
   "id": "defa666f",
   "metadata": {},
   "outputs": [],
   "source": [
    "df = pd.read_csv('/Users/jennyhuang/Documents/jobs/DBC-AI Launch/project2-MDdataCleaning/data-explore/combine.csv')"
   ]
  },
  {
   "cell_type": "code",
   "execution_count": 3,
   "id": "26bddc3e",
   "metadata": {},
   "outputs": [
    {
     "data": {
      "text/plain": [
       "array([[0, '4-5', 0, ..., 0, 3, 0],\n",
       "       [1, '4-5', 0, ..., 0, 3, 0],\n",
       "       [2, '4-5', 0, ..., 0, 3, 0],\n",
       "       ...,\n",
       "       [1386, '-1.0', 5, ..., 0, 2, 0],\n",
       "       [1387, '-1.0', 5, ..., 0, 2, 0],\n",
       "       [1388, '-1.0', 5, ..., 0, 2, 0]], dtype=object)"
      ]
     },
     "execution_count": 3,
     "metadata": {},
     "output_type": "execute_result"
    }
   ],
   "source": [
    "dataset = df.values\n",
    "dataset"
   ]
  },
  {
   "cell_type": "code",
   "execution_count": 51,
   "id": "334ea103",
   "metadata": {},
   "outputs": [],
   "source": [
    "X_reg = dataset[:, [2, 3, 5, 6, 7, 8]]\n",
    "y_reg = dataset[:, [1, 4]]"
   ]
  },
  {
   "cell_type": "code",
   "execution_count": 52,
   "id": "740a2b81",
   "metadata": {},
   "outputs": [],
   "source": [
    "X_class_1 = dataset[:, [1, 2, 3, 5, 6, 7, 8]]\n",
    "y_class_1 = dataset[:, 4] # review number\n",
    "X_class_2 = dataset[:, [2, 3, 4, 5, 6, 7, 8]]\n",
    "y_class_2 = dataset[:, 1] # sr-only"
   ]
  },
  {
   "cell_type": "code",
   "execution_count": 53,
   "id": "ce991804",
   "metadata": {},
   "outputs": [],
   "source": [
    "X_reg = X_reg.astype(str)\n",
    "X_class_1 = X_class_1.astype(str)\n",
    "X_class_2 = X_class_2.astype(str)"
   ]
  },
  {
   "cell_type": "markdown",
   "id": "7ad3a1d9",
   "metadata": {},
   "source": [
    "# classification method"
   ]
  },
  {
   "cell_type": "code",
   "execution_count": 54,
   "id": "b5b63248",
   "metadata": {},
   "outputs": [],
   "source": [
    "X_train_class1, X_test_class1, y_train_class1, y_test_class1 = train_test_split(X_class_1, y_class_1, test_size=0.3, random_state=1) # 0.3 testing 0.7 for training\n",
    "X_train_class2, X_test_class2, y_train_class2, y_test_class2 = train_test_split(X_class_2, y_class_2, test_size=0.3, random_state=1)"
   ]
  },
  {
   "cell_type": "code",
   "execution_count": 55,
   "id": "f0ed84d8",
   "metadata": {},
   "outputs": [
    {
     "name": "stdout",
     "output_type": "stream",
     "text": [
      "Train (972, 7) (972,)\n",
      "Test (417, 7) (417,)\n",
      "Train (972, 7) (972,)\n",
      "Test (417, 7) (417,)\n"
     ]
    }
   ],
   "source": [
    "# summarize\n",
    "for i in range(2):\n",
    "    print('Train', vars()['X_train_class'+str(i+1)].shape, vars()['y_train_class'+str(i+1)].shape)\n",
    "    print('Test', vars()['X_test_class'+str(i+1)].shape, vars()['y_test_class'+str(i+1)].shape)\n",
    "# print('Train', X_train.shape, y_train.shape)\n",
    "# print('Test', X_test.shape, y_test.shape)"
   ]
  },
  {
   "cell_type": "code",
   "execution_count": 8,
   "id": "00f128ca",
   "metadata": {},
   "outputs": [],
   "source": [
    "# oe = OrdinalEncoder()\n",
    "# oe.fit(X_train).categories_"
   ]
  },
  {
   "cell_type": "code",
   "execution_count": 56,
   "id": "c1469b74",
   "metadata": {},
   "outputs": [],
   "source": [
    "# prepare input data use OrdinalEncoder\n",
    "# OrdinalEncoder() from scikit-learn to encode each variable to integers\n",
    "def prepare_inputs(X_train, X_test):\n",
    "    oe = OrdinalEncoder(handle_unknown='use_encoded_value', unknown_value=-1)\n",
    "    oe.fit(X_train)\n",
    "    X_train_enc = oe.transform(X_train)\n",
    "    X_test_enc = oe.transform(X_test)\n",
    "    return X_train_enc, X_test_enc\n",
    "def prepare_targets(y_train, y_test):\n",
    "    le = LabelEncoder()\n",
    "    le.fit(y_train)\n",
    "    y_train_enc = le.transform(y_train)\n",
    "    y_test_enc = le.transform(y_test)\n",
    "    return y_train_enc, y_test_enc"
   ]
  },
  {
   "cell_type": "code",
   "execution_count": 57,
   "id": "d3640802",
   "metadata": {},
   "outputs": [],
   "source": [
    "# X_train"
   ]
  },
  {
   "cell_type": "code",
   "execution_count": 58,
   "id": "a3863d7f",
   "metadata": {},
   "outputs": [],
   "source": [
    "# X_test"
   ]
  },
  {
   "cell_type": "code",
   "execution_count": 28,
   "id": "4ffde9fd",
   "metadata": {},
   "outputs": [],
   "source": [
    "# y_train_enc1 = y_train[:, 0]\n",
    "# y_test_enc1 = y_test[:, 0]"
   ]
  },
  {
   "cell_type": "code",
   "execution_count": 29,
   "id": "d2a6202a",
   "metadata": {},
   "outputs": [],
   "source": [
    "# y_train_enc2 = y_train[:, 1]\n",
    "# y_test_enc2 = y_test[:, 1]"
   ]
  },
  {
   "cell_type": "code",
   "execution_count": 61,
   "id": "c0d827aa",
   "metadata": {},
   "outputs": [],
   "source": [
    "for i in range(2):\n",
    "    vars()['X_train_enc'+str(i + 1)], vars()['X_test_enc'+str(i + 1)] = prepare_inputs(vars()['X_train_class'+str(i + 1)], vars()['X_test_class' + str(i + 1)]) \n",
    "    vars()['y_train_enc'+str(i + 1)], vars()['y_test_enc'+str(i + 1)] = prepare_targets(vars()['y_train_class'+str(i + 1)], vars()['y_test_class' + str(i + 1)]) "
   ]
  },
  {
   "cell_type": "code",
   "execution_count": 30,
   "id": "1428055a",
   "metadata": {},
   "outputs": [],
   "source": [
    "# X_train_enc, X_test_enc = prepare_inputs(X_train, X_test)\n",
    "# y_train_enc1, y_test_enc1 = prepare_targets(y_train_enc1, y_test_enc1) # only for 1d array, we have 2d array in this case\n",
    "# y_train_enc2, y_test_enc2 = prepare_targets(y_train_enc2, y_test_enc2)"
   ]
  },
  {
   "cell_type": "code",
   "execution_count": 62,
   "id": "9cb34e83",
   "metadata": {},
   "outputs": [
    {
     "data": {
      "text/plain": [
       "(972, 7)"
      ]
     },
     "execution_count": 62,
     "metadata": {},
     "output_type": "execute_result"
    }
   ],
   "source": [
    "X_train_enc1.shape"
   ]
  },
  {
   "cell_type": "code",
   "execution_count": 63,
   "id": "9cf61363",
   "metadata": {},
   "outputs": [
    {
     "data": {
      "text/plain": [
       "(972,)"
      ]
     },
     "execution_count": 63,
     "metadata": {},
     "output_type": "execute_result"
    }
   ],
   "source": [
    "y_train_enc1.shape"
   ]
  },
  {
   "cell_type": "code",
   "execution_count": 64,
   "id": "4d81c85e",
   "metadata": {},
   "outputs": [
    {
     "data": {
      "text/plain": [
       "(972,)"
      ]
     },
     "execution_count": 64,
     "metadata": {},
     "output_type": "execute_result"
    }
   ],
   "source": [
    "y_train_enc2.shape"
   ]
  },
  {
   "cell_type": "code",
   "execution_count": 65,
   "id": "d2b32c6d",
   "metadata": {},
   "outputs": [],
   "source": [
    "def select_features(X_train, y_train, X_test):\n",
    "    fs = SelectKBest(score_func=chi2, k='all')\n",
    "    fs.fit(X_train, y_train)\n",
    "    X_train_fs = fs.transform(X_train)\n",
    "    X_test_fs = fs.transform(X_test)\n",
    "    return X_train_fs, X_test_fs, fs"
   ]
  },
  {
   "cell_type": "code",
   "execution_count": 66,
   "id": "173bf910",
   "metadata": {},
   "outputs": [
    {
     "name": "stdout",
     "output_type": "stream",
     "text": [
      "Feature 0: 1032.803508\n",
      "Feature 1: 33.323659\n",
      "Feature 2: 7.047352\n",
      "Feature 3: 11.722601\n",
      "Feature 4: 15.529565\n",
      "Feature 5: 5.348138\n",
      "Feature 6: 15.305312\n"
     ]
    },
    {
     "data": {
      "image/png": "[encoded data removed]",
      "text/plain": [
       "<Figure size 432x288 with 1 Axes>"
      ]
     },
     "metadata": {
      "needs_background": "light"
     },
     "output_type": "display_data"
    }
   ],
   "source": [
    "# feature selection for y_train_enc1 (review_number)\n",
    "X_train_fs1, X_test_fs1, fs1 = select_features(X_train_enc1, y_train_enc1, X_test_enc1)\n",
    "# what are scores for the features\n",
    "for i in range(len(fs1.scores_)):\n",
    "    print('Feature %d: %f' % (i, fs1.scores_[i]))\n",
    "# plot the scores\n",
    "plt.bar([i for i in range(len(fs1.scores_))], fs1.scores_)\n",
    "plt.show()"
   ]
  },
  {
   "cell_type": "code",
   "execution_count": 67,
   "id": "53247515",
   "metadata": {},
   "outputs": [
    {
     "name": "stdout",
     "output_type": "stream",
     "text": [
      "Feature 0: 18.927337\n",
      "Feature 1: 3.200193\n",
      "Feature 2: 2779.373843\n",
      "Feature 3: 5.726795\n",
      "Feature 4: 6.159919\n",
      "Feature 5: 1.793545\n",
      "Feature 6: 3.085102\n"
     ]
    },
    {
     "data": {
      "image/png": "[encoded data removed]",
      "text/plain": [
       "<Figure size 432x288 with 1 Axes>"
      ]
     },
     "metadata": {
      "needs_background": "light"
     },
     "output_type": "display_data"
    }
   ],
   "source": [
    "# feature selection for y_train_enc2 (sr-only)\n",
    "X_train_fs2, X_test_fs2, fs2 = select_features(X_train_enc2, y_train_enc2, X_test_enc2)\n",
    "# what are scores for the features\n",
    "for i in range(len(fs2.scores_)):\n",
    "    print('Feature %d: %f' % (i, fs2.scores_[i]))\n",
    "# plot the scores\n",
    "plt.bar([i for i in range(len(fs2.scores_))], fs2.scores_)\n",
    "plt.show()"
   ]
  },
  {
   "cell_type": "markdown",
   "id": "2f0dd8a5",
   "metadata": {},
   "source": [
    "## decision tree classification model"
   ]
  },
  {
   "cell_type": "code",
   "execution_count": 68,
   "id": "3dbbaa30",
   "metadata": {},
   "outputs": [
    {
     "name": "stdout",
     "output_type": "stream",
     "text": [
      "Accuracy: 79.38\n"
     ]
    }
   ],
   "source": [
    "# fit the model for review_number\n",
    "model = DecisionTreeClassifier()\n",
    "model.fit(X_train_fs1, y_train_enc1)\n",
    "# evaluate the model\n",
    "yhat = model.predict(X_test_fs1)\n",
    "# evaluate predictions\n",
    "accuracy = accuracy_score(y_test_enc1, yhat)\n",
    "print('Accuracy: %.2f' % (accuracy*100)) # 79.38%\n",
    "# error = mean_absolute_error(y_test_enc1, yhat)\n",
    "# print('MAE: %.3f' % (error))"
   ]
  },
  {
   "cell_type": "code",
   "execution_count": 69,
   "id": "3757dc50",
   "metadata": {},
   "outputs": [
    {
     "name": "stdout",
     "output_type": "stream",
     "text": [
      "Accuracy: 83.21\n"
     ]
    }
   ],
   "source": [
    "# fit the model for sr-only\n",
    "model = DecisionTreeClassifier()\n",
    "model.fit(X_train_fs2, y_train_enc2)\n",
    "# evaluate the model\n",
    "yhat = model.predict(X_test_fs2)\n",
    "# evaluate predictions\n",
    "accuracy = accuracy_score(y_test_enc2, yhat)\n",
    "print('Accuracy: %.2f' % (accuracy*100)) # 83.21%\n",
    "# error = mean_absolute_error(y_test_enc1, yhat)\n",
    "# print('MAE: %.3f' % (error))"
   ]
  },
  {
   "cell_type": "code",
   "execution_count": 45,
   "id": "09f7f573",
   "metadata": {},
   "outputs": [],
   "source": [
    "# fs = SelectKBest(score_func=chi2, k='all')\n",
    "# fs.fit(X_train_enc, y_train_enc1)\n",
    "# X_train_fs = fs.transform(X_train_enc)\n",
    "# X_test_fs = fs.transform(X_test_enc)\n",
    "# # the dataset need to be all numerical so I categorized location-info__office-loc 2 to numerical in data-exploration notebook"
   ]
  },
  {
   "cell_type": "code",
   "execution_count": 50,
   "id": "05ff2aec",
   "metadata": {
    "scrolled": true
   },
   "outputs": [],
   "source": [
    "# rfe = RFE(estimator=DecisionTreeClassifier(), n_features_to_select=3)\n",
    "# rfe.fit(X_train_enc, y_train_enc)\n",
    "# X_train_enc, y_train_enc = rfe.transform(X_train_enc, y_train_enc) # Reduce X to the selected features when use OrdinalEncoder."
   ]
  },
  {
   "cell_type": "markdown",
   "id": "934d925a",
   "metadata": {},
   "source": [
    "## try rfe with DecisionTreeClassifier"
   ]
  },
  {
   "cell_type": "code",
   "execution_count": 101,
   "id": "e91f2b64",
   "metadata": {
    "scrolled": true
   },
   "outputs": [
    {
     "name": "stderr",
     "output_type": "stream",
     "text": [
      "/Users/jennyhuang/yes/lib/python3.9/site-packages/sklearn/model_selection/_split.py:700: UserWarning: The least populated class in y has only 1 members, which is less than n_splits=2.\n",
      "  warnings.warn(\n",
      "/Users/jennyhuang/yes/lib/python3.9/site-packages/sklearn/model_selection/_split.py:700: UserWarning: The least populated class in y has only 1 members, which is less than n_splits=2.\n",
      "  warnings.warn(\n",
      "/Users/jennyhuang/yes/lib/python3.9/site-packages/sklearn/model_selection/_split.py:700: UserWarning: The least populated class in y has only 1 members, which is less than n_splits=2.\n",
      "  warnings.warn(\n"
     ]
    },
    {
     "name": "stdout",
     "output_type": "stream",
     "text": [
      "Accuracy: 0.804 (0.007)\n"
     ]
    }
   ],
   "source": [
    "rfe = RFE(estimator=DecisionTreeClassifier(), n_features_to_select=3)\n",
    "model = DecisionTreeClassifier()\n",
    "pipeline = Pipeline(steps=[('s',rfe),('m',model)])\n",
    "# evaluate model\n",
    "cv = RepeatedStratifiedKFold(n_splits=2, n_repeats=3, random_state=1) # If your target variable is continuous then use simple KFold cross validation instead of StratifiedKFold.\n",
    "n_scores = cross_val_score(pipeline, X_train_enc1, y_train_enc1, scoring='accuracy', cv=cv, n_jobs=-1, error_score='raise')\n",
    "# report performance\n",
    "print('Accuracy: %.3f (%.3f)' % (mean(n_scores), std(n_scores)))"
   ]
  },
  {
   "cell_type": "code",
   "execution_count": 109,
   "id": "7dd51ffd",
   "metadata": {},
   "outputs": [
    {
     "name": "stdout",
     "output_type": "stream",
     "text": [
      "Column: 0, Selected True, Rank: 1.000\n",
      "Column: 1, Selected True, Rank: 1.000\n",
      "Column: 2, Selected True, Rank: 1.000\n",
      "Column: 3, Selected False, Rank: 4.000\n",
      "Column: 4, Selected False, Rank: 3.000\n",
      "Column: 5, Selected False, Rank: 2.000\n",
      "Column: 6, Selected False, Rank: 5.000\n"
     ]
    }
   ],
   "source": [
    "rfe.fit(X_train_enc1, y_train_enc1)\n",
    "# summarize all features\n",
    "for i in range(X_train_enc1.shape[1]):\n",
    "    print('Column: %d, Selected %s, Rank: %.3f' % (i, rfe.support_[i], rfe.ranking_[i]))"
   ]
  },
  {
   "cell_type": "code",
   "execution_count": 112,
   "id": "d60aea87",
   "metadata": {},
   "outputs": [
    {
     "data": {
      "text/plain": [
       "(972, 7)"
      ]
     },
     "execution_count": 112,
     "metadata": {},
     "output_type": "execute_result"
    }
   ],
   "source": [
    "X_train_enc1.shape"
   ]
  },
  {
   "cell_type": "markdown",
   "id": "7139fd5a",
   "metadata": {},
   "source": [
    "# regression method"
   ]
  },
  {
   "cell_type": "code",
   "execution_count": 71,
   "id": "2816c227",
   "metadata": {},
   "outputs": [],
   "source": [
    "X_train_reg, X_test_reg, y_train_reg, y_test_reg = train_test_split(X_reg, y_reg, test_size=0.3, random_state=1) # 0.3 testing 0.7 for training"
   ]
  },
  {
   "cell_type": "code",
   "execution_count": 81,
   "id": "0c5ed10a",
   "metadata": {},
   "outputs": [],
   "source": [
    "X_train_enc, X_test_enc = prepare_inputs(X_train_reg, X_test_reg)\n",
    "y_train_enc = np.append([y_train_enc1], [y_train_enc2], axis=0)"
   ]
  },
  {
   "cell_type": "code",
   "execution_count": 87,
   "id": "ccfdb0ed",
   "metadata": {},
   "outputs": [],
   "source": [
    "y_train_enc = y_train_enc.transpose()"
   ]
  },
  {
   "cell_type": "markdown",
   "id": "778b7a29",
   "metadata": {},
   "source": [
    "## without feature selection(RFE)"
   ]
  },
  {
   "cell_type": "code",
   "execution_count": 95,
   "id": "cc75d7c5",
   "metadata": {},
   "outputs": [
    {
     "name": "stdout",
     "output_type": "stream",
     "text": [
      "MAE: 2.480 (0.134)\n"
     ]
    }
   ],
   "source": [
    "model = DecisionTreeRegressor()\n",
    "# evaluate model\n",
    "cv = RepeatedKFold(n_splits=10, n_repeats=3, random_state=1) # If your target variable is continuous then use simple KFold cross validation instead of StratifiedKFold.\n",
    "n_scores = cross_val_score(model, X_train_enc, y_train_enc, scoring='neg_mean_absolute_error', cv=cv, n_jobs=-1)\n",
    "n_scores = absolute(n_scores)\n",
    "# report performance\n",
    "print('MAE: %.3f (%.3f)' % (mean(n_scores), std(n_scores)))"
   ]
  },
  {
   "cell_type": "markdown",
   "id": "229ad9a4",
   "metadata": {},
   "source": [
    "## with feature selection(RFE)"
   ]
  },
  {
   "cell_type": "code",
   "execution_count": 113,
   "id": "bcef899b",
   "metadata": {},
   "outputs": [
    {
     "name": "stdout",
     "output_type": "stream",
     "text": [
      "MAE: 2.480 (0.136)\n"
     ]
    }
   ],
   "source": [
    "rfe = RFE(estimator=DecisionTreeRegressor(), n_features_to_select=3)\n",
    "model = DecisionTreeRegressor()\n",
    "pipeline = Pipeline(steps=[('s',rfe),('m',model)])\n",
    "# evaluate model\n",
    "cv = RepeatedKFold(n_splits=10, n_repeats=3, random_state=1)\n",
    "n_scores = cross_val_score(pipeline, X_train_enc, y_train_enc, scoring='neg_mean_absolute_error', cv=cv, n_jobs=-1, error_score='raise')\n",
    "n_scores = absolute(n_scores)\n",
    "# report performance\n",
    "print('MAE: %.3f (%.3f)' % (mean(n_scores), std(n_scores)))"
   ]
  },
  {
   "cell_type": "code",
   "execution_count": 114,
   "id": "324ea6e0",
   "metadata": {},
   "outputs": [],
   "source": [
    "# # make a prediction for one example\n",
    "# # fit the model on all available data\n",
    "# pipeline.fit(X_train_enc, y_train_enc)\n",
    "# yhat = pipeline.predict(X_test_enc)\n",
    "# error = mean_absolute_error(y_test_enc, yhat)\n",
    "# print('MAE: %.3f' % (error))\n",
    "# # print('Predicted: %.3f' % (yhat))"
   ]
  },
  {
   "cell_type": "code",
   "execution_count": 115,
   "id": "15077fff",
   "metadata": {},
   "outputs": [
    {
     "name": "stdout",
     "output_type": "stream",
     "text": [
      "Column: 0, Selected True, Rank: 1.000\n",
      "Column: 1, Selected True, Rank: 1.000\n",
      "Column: 2, Selected False, Rank: 4.000\n",
      "Column: 3, Selected False, Rank: 2.000\n",
      "Column: 4, Selected True, Rank: 1.000\n",
      "Column: 5, Selected False, Rank: 3.000\n"
     ]
    }
   ],
   "source": [
    "# see the feature selection result\n",
    "rfe.fit(X_train_enc, y_train_enc)\n",
    "for i in range(X_train_enc.shape[1]):\n",
    "    print('Column: %d, Selected %s, Rank: %.3f' % (i, rfe.support_[i], rfe.ranking_[i]))"
   ]
  },
  {
   "cell_type": "markdown",
   "id": "41d4de19",
   "metadata": {},
   "source": [
    "# for sheet1"
   ]
  },
  {
   "cell_type": "code",
   "execution_count": 33,
   "id": "3f4e83b0",
   "metadata": {},
   "outputs": [],
   "source": [
    "f = Fitter(df1['sr-only'])\n",
    "f.fit()"
   ]
  },
  {
   "cell_type": "code",
   "execution_count": 10,
   "id": "03307aaa",
   "metadata": {},
   "outputs": [
    {
     "name": "stderr",
     "output_type": "stream",
     "text": [
      "/Users/jennyhuang/yes/lib/python3.9/site-packages/scipy/integrate/_quadpack_py.py:1225: IntegrationWarning: The occurrence of roundoff error is detected, which prevents \n",
      "  the requested tolerance from being achieved.  The error may be \n",
      "  underestimated.\n",
      "  quad_r = quad(f, low, high, args=args, full_output=self.full_output,\n",
      "/Users/jennyhuang/yes/lib/python3.9/site-packages/scipy/integrate/_quadpack_py.py:1225: IntegrationWarning: The maximum number of subdivisions (50) has been achieved.\n",
      "  If increasing the limit yields no improvement it is advised to analyze \n",
      "  the integrand in order to determine the difficulties.  If the position of a \n",
      "  local difficulty can be determined (singularity, discontinuity) one will \n",
      "  probably gain from splitting up the interval and calling the integrator \n",
      "  on the subranges.  Perhaps a special-purpose integrator should be used.\n",
      "  quad_r = quad(f, low, high, args=args, full_output=self.full_output,\n"
     ]
    },
    {
     "data": {
      "text/html": [
       "<div>\n",
       "<style scoped>\n",
       "    .dataframe tbody tr th:only-of-type {\n",
       "        vertical-align: middle;\n",
       "    }\n",
       "\n",
       "    .dataframe tbody tr th {\n",
       "        vertical-align: top;\n",
       "    }\n",
       "\n",
       "    .dataframe thead th {\n",
       "        text-align: right;\n",
       "    }\n",
       "</style>\n",
       "<table border=\"1\" class=\"dataframe\">\n",
       "  <thead>\n",
       "    <tr style=\"text-align: right;\">\n",
       "      <th></th>\n",
       "      <th>sumsquare_error</th>\n",
       "      <th>aic</th>\n",
       "      <th>bic</th>\n",
       "      <th>kl_div</th>\n",
       "      <th>ks_statistic</th>\n",
       "      <th>ks_pvalue</th>\n",
       "    </tr>\n",
       "  </thead>\n",
       "  <tbody>\n",
       "    <tr>\n",
       "      <th>wrapcauchy</th>\n",
       "      <td>32.405518</td>\n",
       "      <td>736.062167</td>\n",
       "      <td>-235.126293</td>\n",
       "      <td>inf</td>\n",
       "      <td>0.278481</td>\n",
       "      <td>2.510432e-11</td>\n",
       "    </tr>\n",
       "    <tr>\n",
       "      <th>levy_l</th>\n",
       "      <td>42.643123</td>\n",
       "      <td>650.609431</td>\n",
       "      <td>-196.811994</td>\n",
       "      <td>inf</td>\n",
       "      <td>0.341959</td>\n",
       "      <td>5.361267e-17</td>\n",
       "    </tr>\n",
       "    <tr>\n",
       "      <th>weibull_max</th>\n",
       "      <td>42.857869</td>\n",
       "      <td>619.654758</td>\n",
       "      <td>-190.955726</td>\n",
       "      <td>inf</td>\n",
       "      <td>0.306403</td>\n",
       "      <td>1.152080e-13</td>\n",
       "    </tr>\n",
       "    <tr>\n",
       "      <th>genhyperbolic</th>\n",
       "      <td>44.994138</td>\n",
       "      <td>794.911002</td>\n",
       "      <td>-173.144950</td>\n",
       "      <td>inf</td>\n",
       "      <td>NaN</td>\n",
       "      <td>NaN</td>\n",
       "    </tr>\n",
       "    <tr>\n",
       "      <th>johnsonsu</th>\n",
       "      <td>45.121250</td>\n",
       "      <td>1006.382371</td>\n",
       "      <td>-177.761811</td>\n",
       "      <td>inf</td>\n",
       "      <td>0.655678</td>\n",
       "      <td>4.569474e-67</td>\n",
       "    </tr>\n",
       "  </tbody>\n",
       "</table>\n",
       "</div>"
      ],
      "text/plain": [
       "               sumsquare_error          aic         bic  kl_div  ks_statistic  \\\n",
       "wrapcauchy           32.405518   736.062167 -235.126293     inf      0.278481   \n",
       "levy_l               42.643123   650.609431 -196.811994     inf      0.341959   \n",
       "weibull_max          42.857869   619.654758 -190.955726     inf      0.306403   \n",
       "genhyperbolic        44.994138   794.911002 -173.144950     inf           NaN   \n",
       "johnsonsu            45.121250  1006.382371 -177.761811     inf      0.655678   \n",
       "\n",
       "                  ks_pvalue  \n",
       "wrapcauchy     2.510432e-11  \n",
       "levy_l         5.361267e-17  \n",
       "weibull_max    1.152080e-13  \n",
       "genhyperbolic           NaN  \n",
       "johnsonsu      4.569474e-67  "
      ]
     },
     "execution_count": 10,
     "metadata": {},
     "output_type": "execute_result"
    },
    {
     "data": {
      "image/png": "[encoded data removed]",
      "text/plain": [
       "<Figure size 432x288 with 1 Axes>"
      ]
     },
     "metadata": {
      "needs_background": "light"
     },
     "output_type": "display_data"
    }
   ],
   "source": [
    "f.summary()"
   ]
  },
  {
   "cell_type": "code",
   "execution_count": 27,
   "id": "ac43b95e",
   "metadata": {},
   "outputs": [],
   "source": [
    "# # use Kolmogorov-Smirnov test to find out whether the rating info comes from wrapcauchy distribution\n",
    "# ks = sps.kstest(df1['sr-only'], sps.wrapcauchy.cdf(0.99, 0.01))\n",
    "# ks"
   ]
  },
  {
   "cell_type": "code",
   "execution_count": 41,
   "id": "22e7a1d4",
   "metadata": {},
   "outputs": [],
   "source": [
    "# from sklearn.datasets import load_iris\n",
    "# X, y = load_iris(return_X_y=True)\n",
    "# len(y)"
   ]
  },
  {
   "cell_type": "code",
   "execution_count": 53,
   "id": "06834c66",
   "metadata": {},
   "outputs": [],
   "source": [
    "# df1.info()"
   ]
  },
  {
   "cell_type": "code",
   "execution_count": 52,
   "id": "83bdb90b",
   "metadata": {},
   "outputs": [
    {
     "name": "stdout",
     "output_type": "stream",
     "text": [
      "<class 'pandas.core.frame.DataFrame'>\n",
      "RangeIndex: 158 entries, 0 to 157\n",
      "Data columns (total 17 columns):\n",
      " #   Column                           Non-Null Count  Dtype  \n",
      "---  ------                           --------------  -----  \n",
      " 0   provider-name__lnk               157 non-null    object \n",
      " 1   provider-details__specialty      157 non-null    object \n",
      " 2   sr-only                          158 non-null    float64\n",
      " 3   star-rating__reviews             157 non-null    object \n",
      " 4   sr-only 2                        124 non-null    object \n",
      " 5   location-info__office-loc        157 non-null    object \n",
      " 6   location-info__office-loc 2      157 non-null    object \n",
      " 7   feats-of-strength__feat-title    120 non-null    object \n",
      " 8   feats-of-strength__feat-title 2  106 non-null    object \n",
      " 9   feats-of-strength__feat-title 3  104 non-null    object \n",
      " 10  location-info__distance 2        157 non-null    float64\n",
      " 11  star-rating href                 33 non-null     object \n",
      " 12  review_number                    158 non-null    int64  \n",
      " 13  provider_detail                  158 non-null    int64  \n",
      " 14  feats                            158 non-null    int64  \n",
      " 15  feats1                           158 non-null    int64  \n",
      " 16  feats2                           158 non-null    int64  \n",
      "dtypes: float64(2), int64(5), object(10)\n",
      "memory usage: 21.1+ KB\n"
     ]
    }
   ],
   "source": [
    "sheet1.info()"
   ]
  },
  {
   "cell_type": "code",
   "execution_count": 64,
   "id": "eb5477e2",
   "metadata": {},
   "outputs": [],
   "source": [
    "prep_x = sheet1[~sheet1['location-info__distance 2'].isna() & ~sheet1['review_number'].isna() &\n",
    "               ~sheet1['provider_detail'].isna() & ~sheet1['feats'].isna() & ~sheet1['feats1'].isna() &\n",
    "               ~sheet1['feats2'].isna()]"
   ]
  },
  {
   "cell_type": "code",
   "execution_count": 110,
   "id": "f1303384",
   "metadata": {},
   "outputs": [],
   "source": [
    "X = prep_x[['location-info__distance 2', 'review_number', 'provider_detail', 'feats', 'feats1', 'feats2']]\n",
    "y = prep_x['sr-only']"
   ]
  },
  {
   "cell_type": "code",
   "execution_count": 35,
   "id": "1ac45e71",
   "metadata": {},
   "outputs": [],
   "source": [
    "fs = SelectKBest(score_func=f_classif, k=3)"
   ]
  },
  {
   "cell_type": "code",
   "execution_count": 113,
   "id": "15c8aba6",
   "metadata": {},
   "outputs": [
    {
     "name": "stderr",
     "output_type": "stream",
     "text": [
      "/Users/jennyhuang/yes/lib/python3.9/site-packages/sklearn/feature_selection/_univariate_selection.py:112: UserWarning: Features [2] are constant.\n",
      "  warnings.warn(\"Features %s are constant.\" % constant_features_idx, UserWarning)\n"
     ]
    }
   ],
   "source": [
    "X_selected = fs.fit_transform(X, y)"
   ]
  },
  {
   "cell_type": "code",
   "execution_count": 114,
   "id": "a1116def",
   "metadata": {},
   "outputs": [
    {
     "data": {
      "text/plain": [
       "array([ 1.08704031,  0.96431002,         nan, 55.4916357 , 45.9511801 ,\n",
       "       36.32494571])"
      ]
     },
     "execution_count": 114,
     "metadata": {},
     "output_type": "execute_result"
    }
   ],
   "source": [
    "fs.scores_"
   ]
  },
  {
   "cell_type": "code",
   "execution_count": 122,
   "id": "e3a35ddf",
   "metadata": {},
   "outputs": [
    {
     "data": {
      "image/png": "[encoded data removed]",
      "text/plain": [
       "<Figure size 720x288 with 1 Axes>"
      ]
     },
     "metadata": {
      "needs_background": "light"
     },
     "output_type": "display_data"
    }
   ],
   "source": [
    "# what are scores for the features\n",
    "names = []\n",
    "values = []\n",
    "for i in range(len(fs.scores_)):\n",
    "    names.append(X.columns[i])\n",
    "    values.append(fs.scores_[i])\n",
    "lst = zip(names, values)\n",
    "\n",
    "# plot the scores\n",
    "plt.figure(figsize=(10,4))\n",
    "sns.barplot(x=names, y=values)\n",
    "plt.xticks(rotation = 90)\n",
    "plt.show()"
   ]
  },
  {
   "cell_type": "code",
   "execution_count": 105,
   "id": "e987d69c",
   "metadata": {},
   "outputs": [
    {
     "data": {
      "text/plain": [
       "(157, 3)"
      ]
     },
     "execution_count": 105,
     "metadata": {},
     "output_type": "execute_result"
    }
   ],
   "source": [
    "X_selected.shape"
   ]
  },
  {
   "cell_type": "code",
   "execution_count": 106,
   "id": "5894d95f",
   "metadata": {},
   "outputs": [
    {
     "data": {
      "text/plain": [
       "array([[2., 0., 3.],\n",
       "       [0., 3., 4.],\n",
       "       [0., 3., 4.],\n",
       "       [0., 3., 4.],\n",
       "       [2., 0., 3.],\n",
       "       [0., 3., 4.],\n",
       "       [0., 3., 1.],\n",
       "       [0., 3., 4.],\n",
       "       [0., 3., 4.],\n",
       "       [2., 0., 3.],\n",
       "       [0., 3., 4.],\n",
       "       [0., 3., 4.],\n",
       "       [0., 3., 4.],\n",
       "       [0., 3., 4.],\n",
       "       [0., 3., 4.],\n",
       "       [0., 3., 4.],\n",
       "       [0., 3., 4.],\n",
       "       [2., 0., 3.],\n",
       "       [2., 6., 6.],\n",
       "       [0., 3., 4.],\n",
       "       [0., 3., 4.],\n",
       "       [0., 3., 4.],\n",
       "       [0., 3., 4.],\n",
       "       [0., 3., 4.],\n",
       "       [0., 3., 4.],\n",
       "       [2., 0., 3.],\n",
       "       [2., 0., 3.],\n",
       "       [0., 3., 4.],\n",
       "       [0., 3., 4.],\n",
       "       [0., 3., 4.],\n",
       "       [2., 0., 3.],\n",
       "       [0., 3., 4.],\n",
       "       [0., 3., 4.],\n",
       "       [2., 0., 3.],\n",
       "       [2., 0., 3.],\n",
       "       [0., 3., 4.],\n",
       "       [0., 3., 4.],\n",
       "       [0., 3., 4.],\n",
       "       [0., 3., 4.],\n",
       "       [0., 3., 4.],\n",
       "       [0., 3., 4.],\n",
       "       [0., 3., 1.],\n",
       "       [0., 3., 4.],\n",
       "       [0., 3., 1.],\n",
       "       [2., 0., 3.],\n",
       "       [0., 3., 4.],\n",
       "       [0., 4., 5.],\n",
       "       [0., 3., 4.],\n",
       "       [6., 6., 6.],\n",
       "       [6., 6., 6.],\n",
       "       [0., 3., 4.],\n",
       "       [0., 3., 4.],\n",
       "       [0., 3., 4.],\n",
       "       [0., 3., 1.],\n",
       "       [0., 3., 4.],\n",
       "       [0., 3., 4.],\n",
       "       [0., 3., 4.],\n",
       "       [0., 3., 4.],\n",
       "       [0., 3., 4.],\n",
       "       [0., 3., 4.],\n",
       "       [0., 3., 1.],\n",
       "       [0., 3., 4.],\n",
       "       [0., 3., 4.],\n",
       "       [0., 3., 4.],\n",
       "       [0., 3., 4.],\n",
       "       [2., 0., 3.],\n",
       "       [2., 0., 3.],\n",
       "       [2., 0., 3.],\n",
       "       [0., 3., 1.],\n",
       "       [2., 0., 3.],\n",
       "       [0., 3., 4.],\n",
       "       [0., 3., 4.],\n",
       "       [0., 3., 4.],\n",
       "       [0., 3., 4.],\n",
       "       [0., 3., 6.],\n",
       "       [2., 0., 3.],\n",
       "       [0., 3., 5.],\n",
       "       [6., 6., 6.],\n",
       "       [0., 3., 4.],\n",
       "       [6., 6., 6.],\n",
       "       [0., 3., 6.],\n",
       "       [2., 0., 3.],\n",
       "       [0., 3., 4.],\n",
       "       [0., 3., 4.],\n",
       "       [0., 3., 4.],\n",
       "       [0., 3., 1.],\n",
       "       [0., 3., 4.],\n",
       "       [0., 3., 4.],\n",
       "       [0., 3., 1.],\n",
       "       [0., 3., 4.],\n",
       "       [6., 6., 6.],\n",
       "       [2., 0., 3.],\n",
       "       [0., 4., 5.],\n",
       "       [0., 3., 4.],\n",
       "       [0., 3., 4.],\n",
       "       [0., 3., 5.],\n",
       "       [2., 0., 3.],\n",
       "       [0., 3., 4.],\n",
       "       [0., 3., 1.],\n",
       "       [2., 6., 6.],\n",
       "       [6., 6., 6.],\n",
       "       [0., 3., 4.],\n",
       "       [0., 3., 4.],\n",
       "       [3., 6., 6.],\n",
       "       [6., 6., 6.],\n",
       "       [6., 6., 6.],\n",
       "       [2., 0., 3.],\n",
       "       [0., 3., 4.],\n",
       "       [0., 3., 4.],\n",
       "       [4., 6., 6.],\n",
       "       [0., 3., 4.],\n",
       "       [2., 0., 3.],\n",
       "       [0., 3., 4.],\n",
       "       [0., 4., 5.],\n",
       "       [0., 3., 4.],\n",
       "       [0., 6., 6.],\n",
       "       [0., 6., 6.],\n",
       "       [6., 6., 6.],\n",
       "       [2., 4., 5.],\n",
       "       [0., 3., 4.],\n",
       "       [2., 6., 6.],\n",
       "       [3., 6., 6.],\n",
       "       [2., 3., 4.],\n",
       "       [6., 6., 6.],\n",
       "       [2., 6., 6.],\n",
       "       [3., 6., 6.],\n",
       "       [6., 6., 6.],\n",
       "       [6., 6., 6.],\n",
       "       [6., 6., 6.],\n",
       "       [6., 6., 6.],\n",
       "       [6., 6., 6.],\n",
       "       [6., 6., 6.],\n",
       "       [6., 6., 6.],\n",
       "       [6., 6., 6.],\n",
       "       [6., 6., 6.],\n",
       "       [6., 6., 6.],\n",
       "       [6., 6., 6.],\n",
       "       [6., 6., 6.],\n",
       "       [6., 6., 6.],\n",
       "       [6., 6., 6.],\n",
       "       [6., 6., 6.],\n",
       "       [6., 6., 6.],\n",
       "       [6., 6., 6.],\n",
       "       [6., 6., 6.],\n",
       "       [6., 6., 6.],\n",
       "       [6., 6., 6.],\n",
       "       [6., 6., 6.],\n",
       "       [6., 6., 6.],\n",
       "       [2., 6., 6.],\n",
       "       [6., 6., 6.],\n",
       "       [2., 6., 6.],\n",
       "       [2., 6., 6.],\n",
       "       [6., 6., 6.],\n",
       "       [6., 6., 6.],\n",
       "       [6., 6., 6.],\n",
       "       [6., 6., 6.],\n",
       "       [2., 6., 6.]])"
      ]
     },
     "execution_count": 106,
     "metadata": {},
     "output_type": "execute_result"
    }
   ],
   "source": [
    "X_selected"
   ]
  },
  {
   "cell_type": "code",
   "execution_count": 92,
   "id": "34867dd2",
   "metadata": {},
   "outputs": [
    {
     "data": {
      "text/plain": [
       "<bound method SelectorMixin.get_feature_names_out of SelectKBest(k='all')>"
      ]
     },
     "execution_count": 92,
     "metadata": {},
     "output_type": "execute_result"
    }
   ],
   "source": [
    "fs.get_feature_names_out"
   ]
  },
  {
   "cell_type": "code",
   "execution_count": 100,
   "id": "f3442ce1",
   "metadata": {},
   "outputs": [],
   "source": [
    "cols_idxs = fs.get_support(indices=True)"
   ]
  },
  {
   "cell_type": "code",
   "execution_count": 101,
   "id": "dffb467e",
   "metadata": {},
   "outputs": [],
   "source": [
    "features_df_new = X.iloc[:,cols_idxs]"
   ]
  },
  {
   "cell_type": "code",
   "execution_count": 102,
   "id": "ed453995",
   "metadata": {},
   "outputs": [
    {
     "data": {
      "text/html": [
       "<div>\n",
       "<style scoped>\n",
       "    .dataframe tbody tr th:only-of-type {\n",
       "        vertical-align: middle;\n",
       "    }\n",
       "\n",
       "    .dataframe tbody tr th {\n",
       "        vertical-align: top;\n",
       "    }\n",
       "\n",
       "    .dataframe thead th {\n",
       "        text-align: right;\n",
       "    }\n",
       "</style>\n",
       "<table border=\"1\" class=\"dataframe\">\n",
       "  <thead>\n",
       "    <tr style=\"text-align: right;\">\n",
       "      <th></th>\n",
       "      <th>location-info__distance 2</th>\n",
       "      <th>review_number</th>\n",
       "      <th>provider_detail</th>\n",
       "      <th>feats</th>\n",
       "      <th>feats1</th>\n",
       "      <th>feats2</th>\n",
       "    </tr>\n",
       "  </thead>\n",
       "  <tbody>\n",
       "    <tr>\n",
       "      <th>0</th>\n",
       "      <td>11.5</td>\n",
       "      <td>51</td>\n",
       "      <td>0</td>\n",
       "      <td>2</td>\n",
       "      <td>0</td>\n",
       "      <td>3</td>\n",
       "    </tr>\n",
       "    <tr>\n",
       "      <th>1</th>\n",
       "      <td>12.8</td>\n",
       "      <td>303</td>\n",
       "      <td>0</td>\n",
       "      <td>0</td>\n",
       "      <td>3</td>\n",
       "      <td>4</td>\n",
       "    </tr>\n",
       "    <tr>\n",
       "      <th>2</th>\n",
       "      <td>12.8</td>\n",
       "      <td>69</td>\n",
       "      <td>0</td>\n",
       "      <td>0</td>\n",
       "      <td>3</td>\n",
       "      <td>4</td>\n",
       "    </tr>\n",
       "    <tr>\n",
       "      <th>3</th>\n",
       "      <td>0.2</td>\n",
       "      <td>39</td>\n",
       "      <td>0</td>\n",
       "      <td>0</td>\n",
       "      <td>3</td>\n",
       "      <td>4</td>\n",
       "    </tr>\n",
       "    <tr>\n",
       "      <th>4</th>\n",
       "      <td>18.3</td>\n",
       "      <td>25</td>\n",
       "      <td>0</td>\n",
       "      <td>2</td>\n",
       "      <td>0</td>\n",
       "      <td>3</td>\n",
       "    </tr>\n",
       "    <tr>\n",
       "      <th>...</th>\n",
       "      <td>...</td>\n",
       "      <td>...</td>\n",
       "      <td>...</td>\n",
       "      <td>...</td>\n",
       "      <td>...</td>\n",
       "      <td>...</td>\n",
       "    </tr>\n",
       "    <tr>\n",
       "      <th>152</th>\n",
       "      <td>98.6</td>\n",
       "      <td>-1</td>\n",
       "      <td>0</td>\n",
       "      <td>6</td>\n",
       "      <td>6</td>\n",
       "      <td>6</td>\n",
       "    </tr>\n",
       "    <tr>\n",
       "      <th>153</th>\n",
       "      <td>99.0</td>\n",
       "      <td>-1</td>\n",
       "      <td>0</td>\n",
       "      <td>6</td>\n",
       "      <td>6</td>\n",
       "      <td>6</td>\n",
       "    </tr>\n",
       "    <tr>\n",
       "      <th>154</th>\n",
       "      <td>100.0</td>\n",
       "      <td>-1</td>\n",
       "      <td>0</td>\n",
       "      <td>6</td>\n",
       "      <td>6</td>\n",
       "      <td>6</td>\n",
       "    </tr>\n",
       "    <tr>\n",
       "      <th>155</th>\n",
       "      <td>100.9</td>\n",
       "      <td>-1</td>\n",
       "      <td>0</td>\n",
       "      <td>6</td>\n",
       "      <td>6</td>\n",
       "      <td>6</td>\n",
       "    </tr>\n",
       "    <tr>\n",
       "      <th>156</th>\n",
       "      <td>102.4</td>\n",
       "      <td>-1</td>\n",
       "      <td>0</td>\n",
       "      <td>2</td>\n",
       "      <td>6</td>\n",
       "      <td>6</td>\n",
       "    </tr>\n",
       "  </tbody>\n",
       "</table>\n",
       "<p>157 rows × 6 columns</p>\n",
       "</div>"
      ],
      "text/plain": [
       "     location-info__distance 2  review_number  provider_detail  feats  feats1  \\\n",
       "0                         11.5             51                0      2       0   \n",
       "1                         12.8            303                0      0       3   \n",
       "2                         12.8             69                0      0       3   \n",
       "3                          0.2             39                0      0       3   \n",
       "4                         18.3             25                0      2       0   \n",
       "..                         ...            ...              ...    ...     ...   \n",
       "152                       98.6             -1                0      6       6   \n",
       "153                       99.0             -1                0      6       6   \n",
       "154                      100.0             -1                0      6       6   \n",
       "155                      100.9             -1                0      6       6   \n",
       "156                      102.4             -1                0      2       6   \n",
       "\n",
       "     feats2  \n",
       "0         3  \n",
       "1         4  \n",
       "2         4  \n",
       "3         4  \n",
       "4         3  \n",
       "..      ...  \n",
       "152       6  \n",
       "153       6  \n",
       "154       6  \n",
       "155       6  \n",
       "156       6  \n",
       "\n",
       "[157 rows x 6 columns]"
      ]
     },
     "execution_count": 102,
     "metadata": {},
     "output_type": "execute_result"
    }
   ],
   "source": [
    "features_df_new"
   ]
  },
  {
   "cell_type": "code",
   "execution_count": 98,
   "id": "4e8461e7",
   "metadata": {},
   "outputs": [],
   "source": [
    "dataframe = pd.DataFrame(X_selected)"
   ]
  },
  {
   "cell_type": "code",
   "execution_count": null,
   "id": "1f66c446",
   "metadata": {},
   "outputs": [],
   "source": [
    "dataframe = pd.DataFrame(fit_transofrmed_features, columns=features_names)"
   ]
  }
 ],
 "metadata": {
  "kernelspec": {
   "display_name": "Python 3 (ipykernel)",
   "language": "python",
   "name": "python3"
  },
  "language_info": {
   "codemirror_mode": {
    "name": "ipython",
    "version": 3
   },
   "file_extension": ".py",
   "mimetype": "text/x-python",
   "name": "python",
   "nbconvert_exporter": "python",
   "pygments_lexer": "ipython3",
   "version": "3.9.13"
  }
 },
 "nbformat": 4,
 "nbformat_minor": 5
}
