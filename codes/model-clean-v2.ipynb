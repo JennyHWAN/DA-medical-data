{
 "cells": [
  {
   "cell_type": "code",
   "execution_count": 1,
   "id": "9c63ecc2",
   "metadata": {},
   "outputs": [],
   "source": [
    "import pandas as pd\n",
    "import scipy.stats as sps\n",
    "from fitter import Fitter, get_common_distributions, get_distributions\n",
    "from pathlib import Path\n",
    "import matplotlib.pyplot as plt\n",
    "import seaborn as sns\n",
    "from sklearn.feature_selection import f_classif, chi2, SelectKBest\n",
    "from sklearn.model_selection import train_test_split\n",
    "from sklearn.preprocessing import OrdinalEncoder, LabelEncoder\n",
    "from sklearn.feature_selection import RFE\n",
    "from sklearn.tree import DecisionTreeRegressor, DecisionTreeClassifier\n",
    "from sklearn.metrics import accuracy_score # for classification problem\n",
    "from sklearn.metrics import mean_absolute_error # for regression problem\n",
    "from sklearn.model_selection import cross_val_score, RepeatedKFold, RepeatedStratifiedKFold\n",
    "from sklearn.pipeline import Pipeline\n",
    "import numpy as np\n",
    "from numpy import mean, std, absolute"
   ]
  },
  {
   "cell_type": "code",
   "execution_count": 3,
   "id": "defa666f",
   "metadata": {},
   "outputs": [
    {
     "data": {
      "text/html": [
       "<div>\n",
       "<style scoped>\n",
       "    .dataframe tbody tr th:only-of-type {\n",
       "        vertical-align: middle;\n",
       "    }\n",
       "\n",
       "    .dataframe tbody tr th {\n",
       "        vertical-align: top;\n",
       "    }\n",
       "\n",
       "    .dataframe thead th {\n",
       "        text-align: right;\n",
       "    }\n",
       "</style>\n",
       "<table border=\"1\" class=\"dataframe\">\n",
       "  <thead>\n",
       "    <tr style=\"text-align: right;\">\n",
       "      <th></th>\n",
       "      <th>Unnamed: 0</th>\n",
       "      <th>location-info__office-loc 2</th>\n",
       "      <th>sr-only</th>\n",
       "      <th>location-info__distance</th>\n",
       "      <th>review_number</th>\n",
       "      <th>provider_detail</th>\n",
       "      <th>feats</th>\n",
       "      <th>feats1</th>\n",
       "      <th>feats2</th>\n",
       "    </tr>\n",
       "  </thead>\n",
       "  <tbody>\n",
       "    <tr>\n",
       "      <th>0</th>\n",
       "      <td>0</td>\n",
       "      <td>0</td>\n",
       "      <td>-1.0</td>\n",
       "      <td>20-30</td>\n",
       "      <td>&gt;400</td>\n",
       "      <td>17.0</td>\n",
       "      <td>0.0</td>\n",
       "      <td>0.0</td>\n",
       "      <td>1.0</td>\n",
       "    </tr>\n",
       "    <tr>\n",
       "      <th>1</th>\n",
       "      <td>1</td>\n",
       "      <td>1</td>\n",
       "      <td>-1.0</td>\n",
       "      <td>40-60</td>\n",
       "      <td>&gt;400</td>\n",
       "      <td>29.0</td>\n",
       "      <td>0.0</td>\n",
       "      <td>0.0</td>\n",
       "      <td>1.0</td>\n",
       "    </tr>\n",
       "    <tr>\n",
       "      <th>2</th>\n",
       "      <td>2</td>\n",
       "      <td>2</td>\n",
       "      <td>-1.0</td>\n",
       "      <td>40-60</td>\n",
       "      <td>&gt;400</td>\n",
       "      <td>17.0</td>\n",
       "      <td>0.0</td>\n",
       "      <td>0.0</td>\n",
       "      <td>1.0</td>\n",
       "    </tr>\n",
       "    <tr>\n",
       "      <th>3</th>\n",
       "      <td>3</td>\n",
       "      <td>2</td>\n",
       "      <td>4-5</td>\n",
       "      <td>60-80</td>\n",
       "      <td>0-25</td>\n",
       "      <td>26.0</td>\n",
       "      <td>3.0</td>\n",
       "      <td>4.0</td>\n",
       "      <td>0.0</td>\n",
       "    </tr>\n",
       "    <tr>\n",
       "      <th>4</th>\n",
       "      <td>4</td>\n",
       "      <td>2</td>\n",
       "      <td>4-5</td>\n",
       "      <td>40-60</td>\n",
       "      <td>0-25</td>\n",
       "      <td>17.0</td>\n",
       "      <td>5.0</td>\n",
       "      <td>1.0</td>\n",
       "      <td>2.0</td>\n",
       "    </tr>\n",
       "    <tr>\n",
       "      <th>...</th>\n",
       "      <td>...</td>\n",
       "      <td>...</td>\n",
       "      <td>...</td>\n",
       "      <td>...</td>\n",
       "      <td>...</td>\n",
       "      <td>...</td>\n",
       "      <td>...</td>\n",
       "      <td>...</td>\n",
       "      <td>...</td>\n",
       "    </tr>\n",
       "    <tr>\n",
       "      <th>816</th>\n",
       "      <td>816</td>\n",
       "      <td>2</td>\n",
       "      <td>-1.0</td>\n",
       "      <td>40-60</td>\n",
       "      <td>&gt;400</td>\n",
       "      <td>17.0</td>\n",
       "      <td>0.0</td>\n",
       "      <td>0.0</td>\n",
       "      <td>1.0</td>\n",
       "    </tr>\n",
       "    <tr>\n",
       "      <th>817</th>\n",
       "      <td>817</td>\n",
       "      <td>3</td>\n",
       "      <td>-1.0</td>\n",
       "      <td>20-30</td>\n",
       "      <td>&gt;400</td>\n",
       "      <td>17.0</td>\n",
       "      <td>0.0</td>\n",
       "      <td>0.0</td>\n",
       "      <td>1.0</td>\n",
       "    </tr>\n",
       "    <tr>\n",
       "      <th>818</th>\n",
       "      <td>818</td>\n",
       "      <td>0</td>\n",
       "      <td>-1.0</td>\n",
       "      <td>20-30</td>\n",
       "      <td>&gt;400</td>\n",
       "      <td>17.0</td>\n",
       "      <td>0.0</td>\n",
       "      <td>0.0</td>\n",
       "      <td>1.0</td>\n",
       "    </tr>\n",
       "    <tr>\n",
       "      <th>819</th>\n",
       "      <td>819</td>\n",
       "      <td>2</td>\n",
       "      <td>-1.0</td>\n",
       "      <td>40-60</td>\n",
       "      <td>&gt;400</td>\n",
       "      <td>17.0</td>\n",
       "      <td>0.0</td>\n",
       "      <td>0.0</td>\n",
       "      <td>1.0</td>\n",
       "    </tr>\n",
       "    <tr>\n",
       "      <th>820</th>\n",
       "      <td>820</td>\n",
       "      <td>3</td>\n",
       "      <td>-1.0</td>\n",
       "      <td>60-80</td>\n",
       "      <td>&gt;400</td>\n",
       "      <td>17.0</td>\n",
       "      <td>0.0</td>\n",
       "      <td>0.0</td>\n",
       "      <td>1.0</td>\n",
       "    </tr>\n",
       "  </tbody>\n",
       "</table>\n",
       "<p>821 rows × 9 columns</p>\n",
       "</div>"
      ],
      "text/plain": [
       "     Unnamed: 0  location-info__office-loc 2 sr-only location-info__distance  \\\n",
       "0             0                            0    -1.0                   20-30   \n",
       "1             1                            1    -1.0                   40-60   \n",
       "2             2                            2    -1.0                   40-60   \n",
       "3             3                            2     4-5                   60-80   \n",
       "4             4                            2     4-5                   40-60   \n",
       "..          ...                          ...     ...                     ...   \n",
       "816         816                            2    -1.0                   40-60   \n",
       "817         817                            3    -1.0                   20-30   \n",
       "818         818                            0    -1.0                   20-30   \n",
       "819         819                            2    -1.0                   40-60   \n",
       "820         820                            3    -1.0                   60-80   \n",
       "\n",
       "    review_number  provider_detail  feats  feats1  feats2  \n",
       "0            >400             17.0    0.0     0.0     1.0  \n",
       "1            >400             29.0    0.0     0.0     1.0  \n",
       "2            >400             17.0    0.0     0.0     1.0  \n",
       "3            0-25             26.0    3.0     4.0     0.0  \n",
       "4            0-25             17.0    5.0     1.0     2.0  \n",
       "..            ...              ...    ...     ...     ...  \n",
       "816          >400             17.0    0.0     0.0     1.0  \n",
       "817          >400             17.0    0.0     0.0     1.0  \n",
       "818          >400             17.0    0.0     0.0     1.0  \n",
       "819          >400             17.0    0.0     0.0     1.0  \n",
       "820          >400             17.0    0.0     0.0     1.0  \n",
       "\n",
       "[821 rows x 9 columns]"
      ]
     },
     "execution_count": 3,
     "metadata": {},
     "output_type": "execute_result"
    }
   ],
   "source": [
    "df = pd.read_csv('/Users/jennyhuang/Documents/jobs/DBC-AI-Launch/project2-MDdataCleaning/data-explore/combine_v2_final.csv')\n",
    "# df.drop('Unnamed: 0', axis=1, inplace=True)\n",
    "df.drop('provider-name__lnk', axis=1, inplace=True)\n",
    "df"
   ]
  },
  {
   "cell_type": "code",
   "execution_count": 4,
   "id": "2ec8812d",
   "metadata": {},
   "outputs": [
    {
     "data": {
      "text/html": [
       "<style type=\"text/css\">\n",
       "#T_996ce_row0_col0, #T_996ce_row1_col1, #T_996ce_row2_col2, #T_996ce_row3_col3, #T_996ce_row4_col4 {\n",
       "  background-color: #b40426;\n",
       "  color: #f1f1f1;\n",
       "}\n",
       "#T_996ce_row0_col1 {\n",
       "  background-color: #4961d2;\n",
       "  color: #f1f1f1;\n",
       "}\n",
       "#T_996ce_row0_col2 {\n",
       "  background-color: #5572df;\n",
       "  color: #f1f1f1;\n",
       "}\n",
       "#T_996ce_row0_col3 {\n",
       "  background-color: #84a7fc;\n",
       "  color: #f1f1f1;\n",
       "}\n",
       "#T_996ce_row0_col4, #T_996ce_row4_col1 {\n",
       "  background-color: #6788ee;\n",
       "  color: #f1f1f1;\n",
       "}\n",
       "#T_996ce_row1_col0, #T_996ce_row1_col2, #T_996ce_row3_col1, #T_996ce_row3_col4, #T_996ce_row4_col3 {\n",
       "  background-color: #3b4cc0;\n",
       "  color: #f1f1f1;\n",
       "}\n",
       "#T_996ce_row1_col3 {\n",
       "  background-color: #516ddb;\n",
       "  color: #f1f1f1;\n",
       "}\n",
       "#T_996ce_row1_col4 {\n",
       "  background-color: #7da0f9;\n",
       "  color: #f1f1f1;\n",
       "}\n",
       "#T_996ce_row2_col0 {\n",
       "  background-color: #5875e1;\n",
       "  color: #f1f1f1;\n",
       "}\n",
       "#T_996ce_row2_col1 {\n",
       "  background-color: #4c66d6;\n",
       "  color: #f1f1f1;\n",
       "}\n",
       "#T_996ce_row2_col3 {\n",
       "  background-color: #dadce0;\n",
       "  color: #000000;\n",
       "}\n",
       "#T_996ce_row2_col4 {\n",
       "  background-color: #f5c0a7;\n",
       "  color: #000000;\n",
       "}\n",
       "#T_996ce_row3_col0 {\n",
       "  background-color: #5f7fe8;\n",
       "  color: #f1f1f1;\n",
       "}\n",
       "#T_996ce_row3_col2 {\n",
       "  background-color: #c4d5f3;\n",
       "  color: #000000;\n",
       "}\n",
       "#T_996ce_row4_col0 {\n",
       "  background-color: #4055c8;\n",
       "  color: #f1f1f1;\n",
       "}\n",
       "#T_996ce_row4_col2 {\n",
       "  background-color: #efcebd;\n",
       "  color: #000000;\n",
       "}\n",
       "</style>\n",
       "<table id=\"T_996ce\">\n",
       "  <thead>\n",
       "    <tr>\n",
       "      <th class=\"blank level0\" >&nbsp;</th>\n",
       "      <th id=\"T_996ce_level0_col0\" class=\"col_heading level0 col0\" >location-info__office-loc 2</th>\n",
       "      <th id=\"T_996ce_level0_col1\" class=\"col_heading level0 col1\" >provider_detail</th>\n",
       "      <th id=\"T_996ce_level0_col2\" class=\"col_heading level0 col2\" >feats</th>\n",
       "      <th id=\"T_996ce_level0_col3\" class=\"col_heading level0 col3\" >feats1</th>\n",
       "      <th id=\"T_996ce_level0_col4\" class=\"col_heading level0 col4\" >feats2</th>\n",
       "    </tr>\n",
       "  </thead>\n",
       "  <tbody>\n",
       "    <tr>\n",
       "      <th id=\"T_996ce_level0_row0\" class=\"row_heading level0 row0\" >location-info__office-loc 2</th>\n",
       "      <td id=\"T_996ce_row0_col0\" class=\"data row0 col0\" >1.00</td>\n",
       "      <td id=\"T_996ce_row0_col1\" class=\"data row0 col1\" >-0.06</td>\n",
       "      <td id=\"T_996ce_row0_col2\" class=\"data row0 col2\" >0.05</td>\n",
       "      <td id=\"T_996ce_row0_col3\" class=\"data row0 col3\" >0.07</td>\n",
       "      <td id=\"T_996ce_row0_col4\" class=\"data row0 col4\" >-0.03</td>\n",
       "    </tr>\n",
       "    <tr>\n",
       "      <th id=\"T_996ce_level0_row1\" class=\"row_heading level0 row1\" >provider_detail</th>\n",
       "      <td id=\"T_996ce_row1_col0\" class=\"data row1 col0\" >-0.06</td>\n",
       "      <td id=\"T_996ce_row1_col1\" class=\"data row1 col1\" >1.00</td>\n",
       "      <td id=\"T_996ce_row1_col2\" class=\"data row1 col2\" >-0.05</td>\n",
       "      <td id=\"T_996ce_row1_col3\" class=\"data row1 col3\" >-0.11</td>\n",
       "      <td id=\"T_996ce_row1_col4\" class=\"data row1 col4\" >0.05</td>\n",
       "    </tr>\n",
       "    <tr>\n",
       "      <th id=\"T_996ce_level0_row2\" class=\"row_heading level0 row2\" >feats</th>\n",
       "      <td id=\"T_996ce_row2_col0\" class=\"data row2 col0\" >0.05</td>\n",
       "      <td id=\"T_996ce_row2_col1\" class=\"data row2 col1\" >-0.05</td>\n",
       "      <td id=\"T_996ce_row2_col2\" class=\"data row2 col2\" >1.00</td>\n",
       "      <td id=\"T_996ce_row2_col3\" class=\"data row2 col3\" >0.39</td>\n",
       "      <td id=\"T_996ce_row2_col4\" class=\"data row2 col4\" >0.56</td>\n",
       "    </tr>\n",
       "    <tr>\n",
       "      <th id=\"T_996ce_level0_row3\" class=\"row_heading level0 row3\" >feats1</th>\n",
       "      <td id=\"T_996ce_row3_col0\" class=\"data row3 col0\" >0.07</td>\n",
       "      <td id=\"T_996ce_row3_col1\" class=\"data row3 col1\" >-0.11</td>\n",
       "      <td id=\"T_996ce_row3_col2\" class=\"data row3 col2\" >0.39</td>\n",
       "      <td id=\"T_996ce_row3_col3\" class=\"data row3 col3\" >1.00</td>\n",
       "      <td id=\"T_996ce_row3_col4\" class=\"data row3 col4\" >-0.20</td>\n",
       "    </tr>\n",
       "    <tr>\n",
       "      <th id=\"T_996ce_level0_row4\" class=\"row_heading level0 row4\" >feats2</th>\n",
       "      <td id=\"T_996ce_row4_col0\" class=\"data row4 col0\" >-0.03</td>\n",
       "      <td id=\"T_996ce_row4_col1\" class=\"data row4 col1\" >0.05</td>\n",
       "      <td id=\"T_996ce_row4_col2\" class=\"data row4 col2\" >0.56</td>\n",
       "      <td id=\"T_996ce_row4_col3\" class=\"data row4 col3\" >-0.20</td>\n",
       "      <td id=\"T_996ce_row4_col4\" class=\"data row4 col4\" >1.00</td>\n",
       "    </tr>\n",
       "  </tbody>\n",
       "</table>\n"
      ],
      "text/plain": [
       "<pandas.io.formats.style.Styler at 0x1472976a0>"
      ]
     },
     "execution_count": 4,
     "metadata": {},
     "output_type": "execute_result"
    }
   ],
   "source": [
    "data = df.drop('Unnamed: 0', axis=1)\n",
    "cormat = data.corr(method='pearson')\n",
    "# cormat.style.background_gradient(cmap='coolwarm').set_precision(2)\n",
    "cormat.style.background_gradient(cmap='coolwarm').format(precision=2)"
   ]
  },
  {
   "cell_type": "code",
   "execution_count": 5,
   "id": "e875ecc0",
   "metadata": {},
   "outputs": [
    {
     "data": {
      "text/html": [
       "<div>\n",
       "<style scoped>\n",
       "    .dataframe tbody tr th:only-of-type {\n",
       "        vertical-align: middle;\n",
       "    }\n",
       "\n",
       "    .dataframe tbody tr th {\n",
       "        vertical-align: top;\n",
       "    }\n",
       "\n",
       "    .dataframe thead th {\n",
       "        text-align: right;\n",
       "    }\n",
       "</style>\n",
       "<table border=\"1\" class=\"dataframe\">\n",
       "  <thead>\n",
       "    <tr style=\"text-align: right;\">\n",
       "      <th></th>\n",
       "      <th>Unnamed: 0</th>\n",
       "      <th>sr-only</th>\n",
       "      <th>location-info__office-loc 2</th>\n",
       "      <th>location-info__distance</th>\n",
       "      <th>review_number</th>\n",
       "      <th>provider_detail</th>\n",
       "      <th>feats</th>\n",
       "      <th>feats1</th>\n",
       "      <th>feats2</th>\n",
       "    </tr>\n",
       "  </thead>\n",
       "  <tbody>\n",
       "    <tr>\n",
       "      <th>0</th>\n",
       "      <td>0</td>\n",
       "      <td>-1.0</td>\n",
       "      <td>0</td>\n",
       "      <td>20-30</td>\n",
       "      <td>&gt;400</td>\n",
       "      <td>17.0</td>\n",
       "      <td>0.0</td>\n",
       "      <td>0.0</td>\n",
       "      <td>1.0</td>\n",
       "    </tr>\n",
       "    <tr>\n",
       "      <th>1</th>\n",
       "      <td>1</td>\n",
       "      <td>-1.0</td>\n",
       "      <td>1</td>\n",
       "      <td>40-60</td>\n",
       "      <td>&gt;400</td>\n",
       "      <td>29.0</td>\n",
       "      <td>0.0</td>\n",
       "      <td>0.0</td>\n",
       "      <td>1.0</td>\n",
       "    </tr>\n",
       "    <tr>\n",
       "      <th>2</th>\n",
       "      <td>2</td>\n",
       "      <td>-1.0</td>\n",
       "      <td>2</td>\n",
       "      <td>40-60</td>\n",
       "      <td>&gt;400</td>\n",
       "      <td>17.0</td>\n",
       "      <td>0.0</td>\n",
       "      <td>0.0</td>\n",
       "      <td>1.0</td>\n",
       "    </tr>\n",
       "    <tr>\n",
       "      <th>3</th>\n",
       "      <td>3</td>\n",
       "      <td>4-5</td>\n",
       "      <td>2</td>\n",
       "      <td>60-80</td>\n",
       "      <td>0-25</td>\n",
       "      <td>26.0</td>\n",
       "      <td>3.0</td>\n",
       "      <td>4.0</td>\n",
       "      <td>0.0</td>\n",
       "    </tr>\n",
       "    <tr>\n",
       "      <th>4</th>\n",
       "      <td>4</td>\n",
       "      <td>4-5</td>\n",
       "      <td>2</td>\n",
       "      <td>40-60</td>\n",
       "      <td>0-25</td>\n",
       "      <td>17.0</td>\n",
       "      <td>5.0</td>\n",
       "      <td>1.0</td>\n",
       "      <td>2.0</td>\n",
       "    </tr>\n",
       "    <tr>\n",
       "      <th>...</th>\n",
       "      <td>...</td>\n",
       "      <td>...</td>\n",
       "      <td>...</td>\n",
       "      <td>...</td>\n",
       "      <td>...</td>\n",
       "      <td>...</td>\n",
       "      <td>...</td>\n",
       "      <td>...</td>\n",
       "      <td>...</td>\n",
       "    </tr>\n",
       "    <tr>\n",
       "      <th>816</th>\n",
       "      <td>816</td>\n",
       "      <td>-1.0</td>\n",
       "      <td>2</td>\n",
       "      <td>40-60</td>\n",
       "      <td>&gt;400</td>\n",
       "      <td>17.0</td>\n",
       "      <td>0.0</td>\n",
       "      <td>0.0</td>\n",
       "      <td>1.0</td>\n",
       "    </tr>\n",
       "    <tr>\n",
       "      <th>817</th>\n",
       "      <td>817</td>\n",
       "      <td>-1.0</td>\n",
       "      <td>3</td>\n",
       "      <td>20-30</td>\n",
       "      <td>&gt;400</td>\n",
       "      <td>17.0</td>\n",
       "      <td>0.0</td>\n",
       "      <td>0.0</td>\n",
       "      <td>1.0</td>\n",
       "    </tr>\n",
       "    <tr>\n",
       "      <th>818</th>\n",
       "      <td>818</td>\n",
       "      <td>-1.0</td>\n",
       "      <td>0</td>\n",
       "      <td>20-30</td>\n",
       "      <td>&gt;400</td>\n",
       "      <td>17.0</td>\n",
       "      <td>0.0</td>\n",
       "      <td>0.0</td>\n",
       "      <td>1.0</td>\n",
       "    </tr>\n",
       "    <tr>\n",
       "      <th>819</th>\n",
       "      <td>819</td>\n",
       "      <td>-1.0</td>\n",
       "      <td>2</td>\n",
       "      <td>40-60</td>\n",
       "      <td>&gt;400</td>\n",
       "      <td>17.0</td>\n",
       "      <td>0.0</td>\n",
       "      <td>0.0</td>\n",
       "      <td>1.0</td>\n",
       "    </tr>\n",
       "    <tr>\n",
       "      <th>820</th>\n",
       "      <td>820</td>\n",
       "      <td>-1.0</td>\n",
       "      <td>3</td>\n",
       "      <td>60-80</td>\n",
       "      <td>&gt;400</td>\n",
       "      <td>17.0</td>\n",
       "      <td>0.0</td>\n",
       "      <td>0.0</td>\n",
       "      <td>1.0</td>\n",
       "    </tr>\n",
       "  </tbody>\n",
       "</table>\n",
       "<p>821 rows × 9 columns</p>\n",
       "</div>"
      ],
      "text/plain": [
       "     Unnamed: 0 sr-only  location-info__office-loc 2 location-info__distance  \\\n",
       "0             0    -1.0                            0                   20-30   \n",
       "1             1    -1.0                            1                   40-60   \n",
       "2             2    -1.0                            2                   40-60   \n",
       "3             3     4-5                            2                   60-80   \n",
       "4             4     4-5                            2                   40-60   \n",
       "..          ...     ...                          ...                     ...   \n",
       "816         816    -1.0                            2                   40-60   \n",
       "817         817    -1.0                            3                   20-30   \n",
       "818         818    -1.0                            0                   20-30   \n",
       "819         819    -1.0                            2                   40-60   \n",
       "820         820    -1.0                            3                   60-80   \n",
       "\n",
       "    review_number  provider_detail  feats  feats1  feats2  \n",
       "0            >400             17.0    0.0     0.0     1.0  \n",
       "1            >400             29.0    0.0     0.0     1.0  \n",
       "2            >400             17.0    0.0     0.0     1.0  \n",
       "3            0-25             26.0    3.0     4.0     0.0  \n",
       "4            0-25             17.0    5.0     1.0     2.0  \n",
       "..            ...              ...    ...     ...     ...  \n",
       "816          >400             17.0    0.0     0.0     1.0  \n",
       "817          >400             17.0    0.0     0.0     1.0  \n",
       "818          >400             17.0    0.0     0.0     1.0  \n",
       "819          >400             17.0    0.0     0.0     1.0  \n",
       "820          >400             17.0    0.0     0.0     1.0  \n",
       "\n",
       "[821 rows x 9 columns]"
      ]
     },
     "execution_count": 5,
     "metadata": {},
     "output_type": "execute_result"
    }
   ],
   "source": [
    "col_list = list(df)\n",
    "col_list[1], col_list[2] = col_list[2], col_list[1]\n",
    "# df.columns = col_list\n",
    "df = df.loc[:, col_list]\n",
    "df"
   ]
  },
  {
   "cell_type": "code",
   "execution_count": 6,
   "id": "26bddc3e",
   "metadata": {},
   "outputs": [
    {
     "data": {
      "text/plain": [
       "array([[0, '-1.0', 0, ..., 0.0, 0.0, 1.0],\n",
       "       [1, '-1.0', 1, ..., 0.0, 0.0, 1.0],\n",
       "       [2, '-1.0', 2, ..., 0.0, 0.0, 1.0],\n",
       "       ...,\n",
       "       [818, '-1.0', 0, ..., 0.0, 0.0, 1.0],\n",
       "       [819, '-1.0', 2, ..., 0.0, 0.0, 1.0],\n",
       "       [820, '-1.0', 3, ..., 0.0, 0.0, 1.0]], dtype=object)"
      ]
     },
     "execution_count": 6,
     "metadata": {},
     "output_type": "execute_result"
    }
   ],
   "source": [
    "dataset = df.values\n",
    "dataset"
   ]
  },
  {
   "cell_type": "code",
   "execution_count": 7,
   "id": "334ea103",
   "metadata": {},
   "outputs": [],
   "source": [
    "X_reg = dataset[:, [2, 3, 5, 6, 7, 8]]\n",
    "y_reg = dataset[:, [1, 4]]"
   ]
  },
  {
   "cell_type": "code",
   "execution_count": 8,
   "id": "740a2b81",
   "metadata": {},
   "outputs": [],
   "source": [
    "X_class_1 = dataset[:, [1, 2, 3, 5, 6, 7, 8]]\n",
    "y_class_1 = dataset[:, 4] # review number\n",
    "X_class_2 = dataset[:, [2, 3, 4, 5, 6, 7, 8]]\n",
    "y_class_2 = dataset[:, 1] # sr-only"
   ]
  },
  {
   "cell_type": "code",
   "execution_count": 9,
   "id": "ce991804",
   "metadata": {},
   "outputs": [],
   "source": [
    "X_reg = X_reg.astype(str)\n",
    "X_class_1 = X_class_1.astype(str)\n",
    "X_class_2 = X_class_2.astype(str)"
   ]
  },
  {
   "cell_type": "markdown",
   "id": "7ad3a1d9",
   "metadata": {},
   "source": [
    "# classification method"
   ]
  },
  {
   "cell_type": "code",
   "execution_count": 10,
   "id": "b5b63248",
   "metadata": {},
   "outputs": [],
   "source": [
    "X_train_class1, X_test_class1, y_train_class1, y_test_class1 = train_test_split(X_class_1, y_class_1, test_size=0.3, random_state=1) # 0.3 testing 0.7 for training\n",
    "X_train_class2, X_test_class2, y_train_class2, y_test_class2 = train_test_split(X_class_2, y_class_2, test_size=0.3, random_state=1)"
   ]
  },
  {
   "cell_type": "code",
   "execution_count": 11,
   "id": "f0ed84d8",
   "metadata": {},
   "outputs": [
    {
     "name": "stdout",
     "output_type": "stream",
     "text": [
      "Train (574, 7) (574,)\n",
      "Test (247, 7) (247,)\n",
      "Train (574, 7) (574,)\n",
      "Test (247, 7) (247,)\n"
     ]
    }
   ],
   "source": [
    "# summarize\n",
    "for i in range(2):\n",
    "    print('Train', vars()['X_train_class'+str(i+1)].shape, vars()['y_train_class'+str(i+1)].shape)\n",
    "    print('Test', vars()['X_test_class'+str(i+1)].shape, vars()['y_test_class'+str(i+1)].shape)"
   ]
  },
  {
   "cell_type": "code",
   "execution_count": 12,
   "id": "c1469b74",
   "metadata": {},
   "outputs": [],
   "source": [
    "# prepare input data use OrdinalEncoder\n",
    "# OrdinalEncoder() from scikit-learn to encode each variable to integers\n",
    "def prepare_inputs(X_train, X_test):\n",
    "    oe = OrdinalEncoder(handle_unknown='use_encoded_value', unknown_value=-1)\n",
    "    oe.fit(X_train)\n",
    "    X_train_enc = oe.transform(X_train)\n",
    "    X_test_enc = oe.transform(X_test)\n",
    "    return X_train_enc, X_test_enc\n",
    "def prepare_targets(y_train, y_test):\n",
    "    le = LabelEncoder()\n",
    "    le.fit(y_train)\n",
    "    y_train_enc = le.transform(y_train)\n",
    "    y_test_enc = le.transform(y_test)\n",
    "    return y_train_enc, y_test_enc"
   ]
  },
  {
   "cell_type": "code",
   "execution_count": 13,
   "id": "c0d827aa",
   "metadata": {},
   "outputs": [],
   "source": [
    "for i in range(2):\n",
    "    vars()['X_train_enc'+str(i + 1)], vars()['X_test_enc'+str(i + 1)] = prepare_inputs(vars()['X_train_class'+str(i + 1)], vars()['X_test_class' + str(i + 1)]) \n",
    "    vars()['y_train_enc'+str(i + 1)], vars()['y_test_enc'+str(i + 1)] = prepare_targets(vars()['y_train_class'+str(i + 1)], vars()['y_test_class' + str(i + 1)]) "
   ]
  },
  {
   "cell_type": "code",
   "execution_count": 14,
   "id": "9cb34e83",
   "metadata": {},
   "outputs": [
    {
     "data": {
      "text/plain": [
       "(574, 7)"
      ]
     },
     "execution_count": 14,
     "metadata": {},
     "output_type": "execute_result"
    }
   ],
   "source": [
    "X_train_enc1.shape"
   ]
  },
  {
   "cell_type": "code",
   "execution_count": 15,
   "id": "81defd16",
   "metadata": {},
   "outputs": [],
   "source": [
    "# X_train_enc1"
   ]
  },
  {
   "cell_type": "code",
   "execution_count": 16,
   "id": "9cf61363",
   "metadata": {},
   "outputs": [
    {
     "data": {
      "text/plain": [
       "(574,)"
      ]
     },
     "execution_count": 16,
     "metadata": {},
     "output_type": "execute_result"
    }
   ],
   "source": [
    "y_train_enc1.shape"
   ]
  },
  {
   "cell_type": "code",
   "execution_count": 17,
   "id": "daf7e67e",
   "metadata": {},
   "outputs": [],
   "source": [
    "# y_train_enc1"
   ]
  },
  {
   "cell_type": "code",
   "execution_count": 18,
   "id": "e402fd26",
   "metadata": {},
   "outputs": [],
   "source": [
    "# np.concatenate((X_train_enc1, y_train_enc1))"
   ]
  },
  {
   "cell_type": "code",
   "execution_count": 19,
   "id": "4d81c85e",
   "metadata": {},
   "outputs": [
    {
     "data": {
      "text/plain": [
       "(574,)"
      ]
     },
     "execution_count": 19,
     "metadata": {},
     "output_type": "execute_result"
    }
   ],
   "source": [
    "y_train_enc2.shape"
   ]
  },
  {
   "cell_type": "code",
   "execution_count": 20,
   "id": "d2b32c6d",
   "metadata": {},
   "outputs": [],
   "source": [
    "def select_features(X_train, y_train, X_test):\n",
    "    fs = SelectKBest(score_func=chi2, k='all')\n",
    "    fs.fit(X_train, y_train)\n",
    "    X_train_fs = fs.transform(X_train) # Reduce X to the selected features.\n",
    "    X_test_fs = fs.transform(X_test)\n",
    "    return X_train_fs, X_test_fs, fs"
   ]
  },
  {
   "cell_type": "code",
   "execution_count": 21,
   "id": "d2005317",
   "metadata": {},
   "outputs": [
    {
     "data": {
      "text/plain": [
       "{0: 'sr-only',\n",
       " 1: 'location-info__office-loc 2',\n",
       " 2: 'location-info__distance',\n",
       " 3: 'review_number',\n",
       " 4: 'provider_detail',\n",
       " 5: 'feats',\n",
       " 6: 'feats1',\n",
       " 7: 'feats2'}"
      ]
     },
     "execution_count": 21,
     "metadata": {},
     "output_type": "execute_result"
    }
   ],
   "source": [
    "feature_name = {}\n",
    "names = df.columns\n",
    "for i in range(1, len(names)):\n",
    "    feature_name[i - 1] = names[i]\n",
    "feature_name"
   ]
  },
  {
   "cell_type": "code",
   "execution_count": 23,
   "id": "173bf910",
   "metadata": {},
   "outputs": [
    {
     "name": "stdout",
     "output_type": "stream",
     "text": [
      "Feature 0: 625.852570\n",
      "Feature 1: 12.324935\n",
      "Feature 2: 3.180955\n",
      "Feature 3: 24.735959\n",
      "Feature 4: 498.913304\n",
      "Feature 5: 228.975801\n",
      "Feature 6: 42.784671\n"
     ]
    },
    {
     "data": {
      "text/plain": [
       "Text(0, 0.5, 'Score')"
      ]
     },
     "execution_count": 23,
     "metadata": {},
     "output_type": "execute_result"
    },
    {
     "data": {
      "image/png": "[encoded data removed]",
      "text/plain": [
       "<Figure size 432x288 with 1 Axes>"
      ]
     },
     "metadata": {
      "needs_background": "light"
     },
     "output_type": "display_data"
    }
   ],
   "source": [
    "# feature selection for y_train_enc1 (review_number)\n",
    "X_train_fs1, X_test_fs1, fs1 = select_features(X_train_enc1, y_train_enc1, X_test_enc1)\n",
    "# what are scores for the features\n",
    "for i in range(len(fs1.scores_)):\n",
    "    print('Feature %d: %f' % (i, fs1.scores_[i]))\n",
    "# plot the scores\n",
    "plt.bar([i for i in range(len(fs1.scores_))], fs1.scores_)\n",
    "plt.xlabel('Feature names')\n",
    "plt.ylabel('Score')\n",
    "# plt.savefig('/Users/jennyhuang/Documents/jobs/DBC-AI-Launch/project2-MDdataCleaning/model/feature1.png', bbox_inches='tight')\n",
    "# result shows that the sr-only effects review_number mostly, then feats 2 then location info2"
   ]
  },
  {
   "cell_type": "code",
   "execution_count": 24,
   "id": "53247515",
   "metadata": {},
   "outputs": [
    {
     "name": "stdout",
     "output_type": "stream",
     "text": [
      "Feature 0: 2.913846\n",
      "Feature 1: 6.393883\n",
      "Feature 2: 1591.542362\n",
      "Feature 3: 14.129575\n",
      "Feature 4: 627.717541\n",
      "Feature 5: 297.250537\n",
      "Feature 6: 57.582337\n"
     ]
    },
    {
     "data": {
      "text/plain": [
       "Text(0, 0.5, 'Score')"
      ]
     },
     "execution_count": 24,
     "metadata": {},
     "output_type": "execute_result"
    },
    {
     "data": {
      "image/png": "[encoded data removed]",
      "text/plain": [
       "<Figure size 432x288 with 1 Axes>"
      ]
     },
     "metadata": {
      "needs_background": "light"
     },
     "output_type": "display_data"
    }
   ],
   "source": [
    "# feature selection for y_train_enc2 (sr-only)\n",
    "X_train_fs2, X_test_fs2, fs2 = select_features(X_train_enc2, y_train_enc2, X_test_enc2)\n",
    "# what are scores for the features\n",
    "for i in range(len(fs2.scores_)):\n",
    "    print('Feature %d: %f' % (i, fs2.scores_[i]))\n",
    "# plot the scores\n",
    "plt.bar([i for i in range(len(fs2.scores_))], fs2.scores_)\n",
    "plt.xlabel('Feature names')\n",
    "plt.ylabel('Score')\n",
    "# plt.savefig('/Users/jennyhuang/Documents/jobs/DBC-AI-Launch/project2-MDdataCleaning/model/feature2.png', bbox_inches='tight')\n",
    "# plt.show()\n",
    "# the result shows the review_number effects sr-only the most, then location info 2 then feats 2"
   ]
  },
  {
   "cell_type": "markdown",
   "id": "2f0dd8a5",
   "metadata": {},
   "source": [
    "## decision tree classification model"
   ]
  },
  {
   "cell_type": "code",
   "execution_count": 29,
   "id": "3dbbaa30",
   "metadata": {},
   "outputs": [
    {
     "name": "stdout",
     "output_type": "stream",
     "text": [
      "Accuracy: 76.11%\n",
      "MAE: 1.105\n"
     ]
    }
   ],
   "source": [
    "# fit the model for review_number\n",
    "model = DecisionTreeClassifier()\n",
    "model.fit(X_train_fs1, y_train_enc1)\n",
    "# evaluate the model\n",
    "yhat = model.predict(X_test_fs1)\n",
    "# evaluate predictions\n",
    "accuracy = accuracy_score(y_test_enc1, yhat)\n",
    "print('Accuracy: %.2f' % (accuracy*100) + '%') # 79.38%\n",
    "error = mean_absolute_error(y_test_enc1, yhat)\n",
    "print('MAE: %.3f' % (error))"
   ]
  },
  {
   "cell_type": "code",
   "execution_count": 30,
   "id": "3757dc50",
   "metadata": {},
   "outputs": [
    {
     "name": "stdout",
     "output_type": "stream",
     "text": [
      "Accuracy: 88.66%\n",
      "MAE: 0.166\n"
     ]
    }
   ],
   "source": [
    "# fit the model for sr-only\n",
    "model = DecisionTreeClassifier()\n",
    "model.fit(X_train_fs2, y_train_enc2)\n",
    "# evaluate the model\n",
    "yhat = model.predict(X_test_fs2)\n",
    "# evaluate predictions\n",
    "accuracy = accuracy_score(y_test_enc2, yhat)\n",
    "print('Accuracy: %.2f' % (accuracy*100) + '%') # 83.21%\n",
    "error = mean_absolute_error(y_test_enc2, yhat)\n",
    "print('MAE: %.3f' % (error))"
   ]
  },
  {
   "cell_type": "markdown",
   "id": "934d925a",
   "metadata": {},
   "source": [
    "## try rfe with DecisionTreeClassifier"
   ]
  },
  {
   "cell_type": "code",
   "execution_count": 62,
   "id": "e91f2b64",
   "metadata": {
    "scrolled": true
   },
   "outputs": [
    {
     "name": "stderr",
     "output_type": "stream",
     "text": [
      "/Users/jennyhuang/yes/lib/python3.9/site-packages/sklearn/model_selection/_split.py:700: UserWarning: The least populated class in y has only 1 members, which is less than n_splits=2.\n",
      "  warnings.warn(\n",
      "/Users/jennyhuang/yes/lib/python3.9/site-packages/sklearn/model_selection/_split.py:700: UserWarning: The least populated class in y has only 1 members, which is less than n_splits=2.\n",
      "  warnings.warn(\n",
      "/Users/jennyhuang/yes/lib/python3.9/site-packages/sklearn/model_selection/_split.py:700: UserWarning: The least populated class in y has only 1 members, which is less than n_splits=2.\n",
      "  warnings.warn(\n"
     ]
    },
    {
     "name": "stdout",
     "output_type": "stream",
     "text": [
      "Accuracy: 0.783 (0.011)\n"
     ]
    }
   ],
   "source": [
    "rfe = RFE(estimator=DecisionTreeClassifier(), n_features_to_select=3)\n",
    "model = DecisionTreeClassifier()\n",
    "pipeline = Pipeline(steps=[('s',rfe),('m',model)])\n",
    "# evaluate model\n",
    "cv = RepeatedStratifiedKFold(n_splits=2, n_repeats=3, random_state=1) # If your target variable is continuous then use simple KFold cross validation instead of StratifiedKFold.\n",
    "n_scores = cross_val_score(pipeline, X_train_enc1, y_train_enc1, scoring='accuracy', cv=cv, n_jobs=-1, error_score='raise')\n",
    "# report performance\n",
    "print(\"Accuracy: %.3f (%.3f)\" % (mean(n_scores), std(n_scores)))"
   ]
  },
  {
   "cell_type": "code",
   "execution_count": 63,
   "id": "7dd51ffd",
   "metadata": {},
   "outputs": [
    {
     "name": "stdout",
     "output_type": "stream",
     "text": [
      "Column: 0, Selected True, Rank: 1.000\n",
      "Column: 1, Selected False, Rank: 2.000\n",
      "Column: 2, Selected True, Rank: 1.000\n",
      "Column: 3, Selected True, Rank: 1.000\n",
      "Column: 4, Selected False, Rank: 5.000\n",
      "Column: 5, Selected False, Rank: 3.000\n",
      "Column: 6, Selected False, Rank: 4.000\n"
     ]
    }
   ],
   "source": [
    "rfe.fit(X_train_enc1, y_train_enc1)\n",
    "# summarize all features\n",
    "for i in range(X_train_enc1.shape[1]):\n",
    "    print('Column: %d, Selected %s, Rank: %.3f' % (i, rfe.support_[i], rfe.ranking_[i]))"
   ]
  },
  {
   "cell_type": "code",
   "execution_count": 64,
   "id": "a3d01554",
   "metadata": {},
   "outputs": [
    {
     "name": "stdout",
     "output_type": "stream",
     "text": [
      "Accuracy: 0.911 (0.028)\n"
     ]
    }
   ],
   "source": [
    "rfe = RFE(estimator=DecisionTreeClassifier(), n_features_to_select=3)\n",
    "model = DecisionTreeClassifier()\n",
    "pipeline = Pipeline(steps=[('s',rfe),('m',model)])\n",
    "# evaluate model\n",
    "cv = RepeatedStratifiedKFold(n_splits=2, n_repeats=3, random_state=1) # If your target variable is continuous then use simple KFold cross validation instead of StratifiedKFold.\n",
    "n_scores = cross_val_score(pipeline, X_train_enc2, y_train_enc2, scoring='accuracy', cv=cv, n_jobs=-1, error_score='raise')\n",
    "# report performance\n",
    "print(\"Accuracy: %.3f (%.3f)\" % (mean(n_scores), std(n_scores)))"
   ]
  },
  {
   "cell_type": "code",
   "execution_count": 65,
   "id": "e3d8a637",
   "metadata": {},
   "outputs": [
    {
     "name": "stdout",
     "output_type": "stream",
     "text": [
      "Column: 0, Selected False, Rank: 2.000\n",
      "Column: 1, Selected False, Rank: 4.000\n",
      "Column: 2, Selected True, Rank: 1.000\n",
      "Column: 3, Selected False, Rank: 5.000\n",
      "Column: 4, Selected False, Rank: 3.000\n",
      "Column: 5, Selected True, Rank: 1.000\n",
      "Column: 6, Selected True, Rank: 1.000\n"
     ]
    }
   ],
   "source": [
    "rfe.fit(X_train_enc2, y_train_enc2)\n",
    "# summarize all features\n",
    "for i in range(X_train_enc1.shape[1]):\n",
    "    print('Column: %d, Selected %s, Rank: %.3f' % (i, rfe.support_[i], rfe.ranking_[i]))"
   ]
  },
  {
   "cell_type": "code",
   "execution_count": 66,
   "id": "065e92eb",
   "metadata": {},
   "outputs": [
    {
     "data": {
      "text/plain": [
       "{0: 'sr-only',\n",
       " 1: 'location-info__office-loc 2',\n",
       " 2: 'location-info__distance',\n",
       " 3: 'review_number',\n",
       " 4: 'provider_detail',\n",
       " 5: 'feats',\n",
       " 6: 'feats1',\n",
       " 7: 'feats2'}"
      ]
     },
     "execution_count": 66,
     "metadata": {},
     "output_type": "execute_result"
    }
   ],
   "source": [
    "feature_name"
   ]
  },
  {
   "cell_type": "code",
   "execution_count": 67,
   "id": "d60aea87",
   "metadata": {},
   "outputs": [
    {
     "data": {
      "text/plain": [
       "(574, 7)"
      ]
     },
     "execution_count": 67,
     "metadata": {},
     "output_type": "execute_result"
    }
   ],
   "source": [
    "X_train_enc1.shape"
   ]
  },
  {
   "cell_type": "markdown",
   "id": "7139fd5a",
   "metadata": {},
   "source": [
    "# regression method"
   ]
  },
  {
   "cell_type": "code",
   "execution_count": 68,
   "id": "2e12f83d",
   "metadata": {},
   "outputs": [
    {
     "data": {
      "text/plain": [
       "Index(['Unnamed: 0', 'sr-only', 'location-info__office-loc 2',\n",
       "       'location-info__distance', 'review_number', 'provider_detail', 'feats',\n",
       "       'feats1', 'feats2'],\n",
       "      dtype='object')"
      ]
     },
     "execution_count": 68,
     "metadata": {},
     "output_type": "execute_result"
    }
   ],
   "source": [
    "names"
   ]
  },
  {
   "cell_type": "code",
   "execution_count": 69,
   "id": "2816c227",
   "metadata": {},
   "outputs": [],
   "source": [
    "X_train_reg, X_test_reg, y_train_reg, y_test_reg = train_test_split(X_reg, y_reg, test_size=0.3, random_state=1) # 0.3 testing 0.7 for training"
   ]
  },
  {
   "cell_type": "code",
   "execution_count": 70,
   "id": "0c5ed10a",
   "metadata": {},
   "outputs": [],
   "source": [
    "X_train_enc, X_test_enc = prepare_inputs(X_train_reg, X_test_reg)\n",
    "y_train_enc = np.append([y_train_enc1], [y_train_enc2], axis=0)"
   ]
  },
  {
   "cell_type": "code",
   "execution_count": 71,
   "id": "ccfdb0ed",
   "metadata": {},
   "outputs": [],
   "source": [
    "y_train_enc = y_train_enc.transpose()"
   ]
  },
  {
   "cell_type": "markdown",
   "id": "778b7a29",
   "metadata": {},
   "source": [
    "## without feature selection(RFE)"
   ]
  },
  {
   "cell_type": "code",
   "execution_count": 72,
   "id": "cc75d7c5",
   "metadata": {},
   "outputs": [
    {
     "name": "stdout",
     "output_type": "stream",
     "text": [
      "MAE: 1.138 (0.133)\n"
     ]
    }
   ],
   "source": [
    "model = DecisionTreeRegressor()\n",
    "# evaluate model\n",
    "cv = RepeatedKFold(n_splits=10, n_repeats=3, random_state=1) # If your target variable is continuous then use simple KFold cross validation instead of StratifiedKFold.\n",
    "n_scores = cross_val_score(model, X_train_enc, y_train_enc, scoring='neg_mean_absolute_error', cv=cv, n_jobs=-1)\n",
    "n_scores = absolute(n_scores)\n",
    "# report performance\n",
    "print('MAE: %.3f (%.3f)' % (mean(n_scores), std(n_scores)))"
   ]
  },
  {
   "cell_type": "markdown",
   "id": "229ad9a4",
   "metadata": {},
   "source": [
    "## with feature selection(RFE)"
   ]
  },
  {
   "cell_type": "code",
   "execution_count": 73,
   "id": "bcef899b",
   "metadata": {},
   "outputs": [
    {
     "name": "stdout",
     "output_type": "stream",
     "text": [
      "MAE: 1.304 (0.168)\n"
     ]
    }
   ],
   "source": [
    "rfe = RFE(estimator=DecisionTreeRegressor(), n_features_to_select=3)\n",
    "model = DecisionTreeRegressor()\n",
    "pipeline = Pipeline(steps=[('s',rfe),('m',model)])\n",
    "# evaluate model\n",
    "cv = RepeatedKFold(n_splits=10, n_repeats=3, random_state=1)\n",
    "n_scores = cross_val_score(pipeline, X_train_enc, y_train_enc, scoring='neg_mean_absolute_error', cv=cv, n_jobs=-1, error_score='raise')\n",
    "n_scores = absolute(n_scores)\n",
    "# report performance\n",
    "print('MAE: %.3f (%.3f)' % (mean(n_scores), std(n_scores)))"
   ]
  },
  {
   "cell_type": "code",
   "execution_count": 74,
   "id": "e6600cbc",
   "metadata": {},
   "outputs": [
    {
     "name": "stdout",
     "output_type": "stream",
     "text": [
      "Column: 0, Selected True, Rank: 1.000\n",
      "Column: 1, Selected False, Rank: 2.000\n",
      "Column: 2, Selected True, Rank: 1.000\n",
      "Column: 3, Selected True, Rank: 1.000\n",
      "Column: 4, Selected False, Rank: 3.000\n",
      "Column: 5, Selected False, Rank: 4.000\n"
     ]
    }
   ],
   "source": [
    "# see the feature selection result\n",
    "rfe.fit(X_train_enc, y_train_enc)\n",
    "for i in range(X_train_enc.shape[1]):\n",
    "    print('Column: %d, Selected %s, Rank: %.3f' % (i, rfe.support_[i], rfe.ranking_[i]))"
   ]
  },
  {
   "cell_type": "code",
   "execution_count": 75,
   "id": "9111d83c",
   "metadata": {},
   "outputs": [
    {
     "name": "stdout",
     "output_type": "stream",
     "text": [
      "MAE: 1.297 (0.142)\n"
     ]
    }
   ],
   "source": [
    "rfe = RFE(estimator=DecisionTreeRegressor(), n_features_to_select=1)\n",
    "model = DecisionTreeRegressor()\n",
    "pipeline = Pipeline(steps=[('s',rfe),('m',model)])\n",
    "# evaluate model\n",
    "cv = RepeatedKFold(n_splits=10, n_repeats=3, random_state=1)\n",
    "n_scores = cross_val_score(pipeline, X_train_enc, y_train_enc, scoring='neg_mean_absolute_error', cv=cv, n_jobs=-1, error_score='raise')\n",
    "n_scores = absolute(n_scores)\n",
    "# report performance\n",
    "print('MAE: %.3f (%.3f)' % (mean(n_scores), std(n_scores)))"
   ]
  },
  {
   "cell_type": "code",
   "execution_count": 76,
   "id": "15077fff",
   "metadata": {},
   "outputs": [
    {
     "name": "stdout",
     "output_type": "stream",
     "text": [
      "Column: 0, Selected False, Rank: 3.000\n",
      "Column: 1, Selected False, Rank: 4.000\n",
      "Column: 2, Selected False, Rank: 2.000\n",
      "Column: 3, Selected True, Rank: 1.000\n",
      "Column: 4, Selected False, Rank: 5.000\n",
      "Column: 5, Selected False, Rank: 6.000\n"
     ]
    }
   ],
   "source": [
    "# see the feature selection result\n",
    "rfe.fit(X_train_enc, y_train_enc)\n",
    "for i in range(X_train_enc.shape[1]):\n",
    "    print('Column: %d, Selected %s, Rank: %.3f' % (i, rfe.support_[i], rfe.ranking_[i]))"
   ]
  },
  {
   "cell_type": "code",
   "execution_count": 77,
   "id": "d9930e99",
   "metadata": {},
   "outputs": [
    {
     "name": "stdout",
     "output_type": "stream",
     "text": [
      "MAE: 1.280 (0.154)\n"
     ]
    }
   ],
   "source": [
    "rfe = RFE(estimator=DecisionTreeRegressor(), n_features_to_select=2)\n",
    "model = DecisionTreeRegressor()\n",
    "pipeline = Pipeline(steps=[('s',rfe),('m',model)])\n",
    "# evaluate model\n",
    "cv = RepeatedKFold(n_splits=10, n_repeats=3, random_state=1)\n",
    "n_scores = cross_val_score(pipeline, X_train_enc, y_train_enc, scoring='neg_mean_absolute_error', cv=cv, n_jobs=-1, error_score='raise')\n",
    "n_scores = absolute(n_scores)\n",
    "# report performance\n",
    "print('MAE: %.3f (%.3f)' % (mean(n_scores), std(n_scores)))"
   ]
  },
  {
   "cell_type": "code",
   "execution_count": 78,
   "id": "fb21e4b4",
   "metadata": {},
   "outputs": [
    {
     "name": "stdout",
     "output_type": "stream",
     "text": [
      "Column: 0, Selected False, Rank: 2.000\n",
      "Column: 1, Selected False, Rank: 3.000\n",
      "Column: 2, Selected True, Rank: 1.000\n",
      "Column: 3, Selected True, Rank: 1.000\n",
      "Column: 4, Selected False, Rank: 4.000\n",
      "Column: 5, Selected False, Rank: 5.000\n"
     ]
    }
   ],
   "source": [
    "# see the feature selection result\n",
    "rfe.fit(X_train_enc, y_train_enc)\n",
    "for i in range(X_train_enc.shape[1]):\n",
    "    print('Column: %d, Selected %s, Rank: %.3f' % (i, rfe.support_[i], rfe.ranking_[i]))"
   ]
  },
  {
   "cell_type": "code",
   "execution_count": null,
   "id": "8572de05",
   "metadata": {},
   "outputs": [],
   "source": []
  },
  {
   "cell_type": "code",
   "execution_count": null,
   "id": "a681ca79",
   "metadata": {},
   "outputs": [],
   "source": []
  }
 ],
 "metadata": {
  "kernelspec": {
   "display_name": "Python 3 (ipykernel)",
   "language": "python",
   "name": "python3"
  },
  "language_info": {
   "codemirror_mode": {
    "name": "ipython",
    "version": 3
   },
   "file_extension": ".py",
   "mimetype": "text/x-python",
   "name": "python",
   "nbconvert_exporter": "python",
   "pygments_lexer": "ipython3",
   "version": "3.9.13"
  }
 },
 "nbformat": 4,
 "nbformat_minor": 5
}
