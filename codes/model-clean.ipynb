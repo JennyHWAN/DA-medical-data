{
 "cells": [
  {
   "cell_type": "code",
   "execution_count": 1,
   "id": "9c63ecc2",
   "metadata": {},
   "outputs": [],
   "source": [
    "import pandas as pd\n",
    "import scipy.stats as sps\n",
    "from fitter import Fitter, get_common_distributions, get_distributions\n",
    "from pathlib import Path\n",
    "import matplotlib.pyplot as plt\n",
    "import seaborn as sns\n",
    "from sklearn.feature_selection import f_classif, chi2, SelectKBest\n",
    "from sklearn.model_selection import train_test_split\n",
    "from sklearn.preprocessing import OrdinalEncoder, LabelEncoder\n",
    "from sklearn.feature_selection import RFE\n",
    "from sklearn.tree import DecisionTreeRegressor, DecisionTreeClassifier\n",
    "from sklearn.metrics import accuracy_score # for classification problem\n",
    "from sklearn.metrics import mean_absolute_error # for regression problem\n",
    "from sklearn.model_selection import cross_val_score, RepeatedKFold, RepeatedStratifiedKFold\n",
    "from sklearn.pipeline import Pipeline\n",
    "import dataframe_image as dfi\n",
    "import numpy as np\n",
    "from numpy import mean, std, absolute"
   ]
  },
  {
   "cell_type": "code",
   "execution_count": 2,
   "id": "defa666f",
   "metadata": {},
   "outputs": [],
   "source": [
    "df = pd.read_csv('/Users/jennyhuang/Documents/jobs/DBC-AI Launch/project2-MDdataCleaning/data-explore/combine.csv')"
   ]
  },
  {
   "cell_type": "code",
   "execution_count": 3,
   "id": "04680d54",
   "metadata": {},
   "outputs": [
    {
     "data": {
      "text/html": [
       "<div>\n",
       "<style scoped>\n",
       "    .dataframe tbody tr th:only-of-type {\n",
       "        vertical-align: middle;\n",
       "    }\n",
       "\n",
       "    .dataframe tbody tr th {\n",
       "        vertical-align: top;\n",
       "    }\n",
       "\n",
       "    .dataframe thead th {\n",
       "        text-align: right;\n",
       "    }\n",
       "</style>\n",
       "<table border=\"1\" class=\"dataframe\">\n",
       "  <thead>\n",
       "    <tr style=\"text-align: right;\">\n",
       "      <th></th>\n",
       "      <th>Unnamed: 0</th>\n",
       "      <th>sr-only</th>\n",
       "      <th>location-info__office-loc 2</th>\n",
       "      <th>location-info__distance</th>\n",
       "      <th>review_number</th>\n",
       "      <th>provider_detail</th>\n",
       "      <th>feats</th>\n",
       "      <th>feats1</th>\n",
       "      <th>feats2</th>\n",
       "    </tr>\n",
       "  </thead>\n",
       "  <tbody>\n",
       "    <tr>\n",
       "      <th>0</th>\n",
       "      <td>0</td>\n",
       "      <td>4-5</td>\n",
       "      <td>0</td>\n",
       "      <td>0-20</td>\n",
       "      <td>50-75</td>\n",
       "      <td>17</td>\n",
       "      <td>3</td>\n",
       "      <td>4</td>\n",
       "      <td>0</td>\n",
       "    </tr>\n",
       "    <tr>\n",
       "      <th>1</th>\n",
       "      <td>1</td>\n",
       "      <td>4-5</td>\n",
       "      <td>0</td>\n",
       "      <td>0-20</td>\n",
       "      <td>175-400</td>\n",
       "      <td>17</td>\n",
       "      <td>5</td>\n",
       "      <td>1</td>\n",
       "      <td>2</td>\n",
       "    </tr>\n",
       "    <tr>\n",
       "      <th>2</th>\n",
       "      <td>2</td>\n",
       "      <td>4-5</td>\n",
       "      <td>0</td>\n",
       "      <td>0-20</td>\n",
       "      <td>50-75</td>\n",
       "      <td>17</td>\n",
       "      <td>5</td>\n",
       "      <td>1</td>\n",
       "      <td>2</td>\n",
       "    </tr>\n",
       "    <tr>\n",
       "      <th>3</th>\n",
       "      <td>3</td>\n",
       "      <td>4-5</td>\n",
       "      <td>0</td>\n",
       "      <td>0-20</td>\n",
       "      <td>25-50</td>\n",
       "      <td>17</td>\n",
       "      <td>5</td>\n",
       "      <td>1</td>\n",
       "      <td>2</td>\n",
       "    </tr>\n",
       "    <tr>\n",
       "      <th>4</th>\n",
       "      <td>4</td>\n",
       "      <td>4-5</td>\n",
       "      <td>0</td>\n",
       "      <td>0-20</td>\n",
       "      <td>25-50</td>\n",
       "      <td>17</td>\n",
       "      <td>3</td>\n",
       "      <td>4</td>\n",
       "      <td>0</td>\n",
       "    </tr>\n",
       "    <tr>\n",
       "      <th>...</th>\n",
       "      <td>...</td>\n",
       "      <td>...</td>\n",
       "      <td>...</td>\n",
       "      <td>...</td>\n",
       "      <td>...</td>\n",
       "      <td>...</td>\n",
       "      <td>...</td>\n",
       "      <td>...</td>\n",
       "      <td>...</td>\n",
       "    </tr>\n",
       "    <tr>\n",
       "      <th>1384</th>\n",
       "      <td>1384</td>\n",
       "      <td>-1.0</td>\n",
       "      <td>5</td>\n",
       "      <td>0-20</td>\n",
       "      <td>&gt;400</td>\n",
       "      <td>17</td>\n",
       "      <td>0</td>\n",
       "      <td>0</td>\n",
       "      <td>1</td>\n",
       "    </tr>\n",
       "    <tr>\n",
       "      <th>1385</th>\n",
       "      <td>1385</td>\n",
       "      <td>-1.0</td>\n",
       "      <td>5</td>\n",
       "      <td>0-20</td>\n",
       "      <td>&gt;400</td>\n",
       "      <td>17</td>\n",
       "      <td>0</td>\n",
       "      <td>0</td>\n",
       "      <td>1</td>\n",
       "    </tr>\n",
       "    <tr>\n",
       "      <th>1386</th>\n",
       "      <td>1386</td>\n",
       "      <td>-1.0</td>\n",
       "      <td>5</td>\n",
       "      <td>0-20</td>\n",
       "      <td>&gt;400</td>\n",
       "      <td>17</td>\n",
       "      <td>0</td>\n",
       "      <td>0</td>\n",
       "      <td>1</td>\n",
       "    </tr>\n",
       "    <tr>\n",
       "      <th>1387</th>\n",
       "      <td>1387</td>\n",
       "      <td>-1.0</td>\n",
       "      <td>5</td>\n",
       "      <td>0-20</td>\n",
       "      <td>&gt;400</td>\n",
       "      <td>17</td>\n",
       "      <td>0</td>\n",
       "      <td>0</td>\n",
       "      <td>1</td>\n",
       "    </tr>\n",
       "    <tr>\n",
       "      <th>1388</th>\n",
       "      <td>1388</td>\n",
       "      <td>-1.0</td>\n",
       "      <td>5</td>\n",
       "      <td>80-100</td>\n",
       "      <td>&gt;400</td>\n",
       "      <td>17</td>\n",
       "      <td>0</td>\n",
       "      <td>0</td>\n",
       "      <td>1</td>\n",
       "    </tr>\n",
       "  </tbody>\n",
       "</table>\n",
       "<p>1389 rows × 9 columns</p>\n",
       "</div>"
      ],
      "text/plain": [
       "      Unnamed: 0 sr-only  location-info__office-loc 2 location-info__distance  \\\n",
       "0              0     4-5                            0                    0-20   \n",
       "1              1     4-5                            0                    0-20   \n",
       "2              2     4-5                            0                    0-20   \n",
       "3              3     4-5                            0                    0-20   \n",
       "4              4     4-5                            0                    0-20   \n",
       "...          ...     ...                          ...                     ...   \n",
       "1384        1384    -1.0                            5                    0-20   \n",
       "1385        1385    -1.0                            5                    0-20   \n",
       "1386        1386    -1.0                            5                    0-20   \n",
       "1387        1387    -1.0                            5                    0-20   \n",
       "1388        1388    -1.0                            5                  80-100   \n",
       "\n",
       "     review_number  provider_detail  feats  feats1  feats2  \n",
       "0            50-75               17      3       4       0  \n",
       "1          175-400               17      5       1       2  \n",
       "2            50-75               17      5       1       2  \n",
       "3            25-50               17      5       1       2  \n",
       "4            25-50               17      3       4       0  \n",
       "...            ...              ...    ...     ...     ...  \n",
       "1384          >400               17      0       0       1  \n",
       "1385          >400               17      0       0       1  \n",
       "1386          >400               17      0       0       1  \n",
       "1387          >400               17      0       0       1  \n",
       "1388          >400               17      0       0       1  \n",
       "\n",
       "[1389 rows x 9 columns]"
      ]
     },
     "execution_count": 3,
     "metadata": {},
     "output_type": "execute_result"
    }
   ],
   "source": [
    "df"
   ]
  },
  {
   "cell_type": "code",
   "execution_count": 4,
   "id": "26bddc3e",
   "metadata": {},
   "outputs": [
    {
     "data": {
      "text/plain": [
       "array([[0, '4-5', 0, ..., 3, 4, 0],\n",
       "       [1, '4-5', 0, ..., 5, 1, 2],\n",
       "       [2, '4-5', 0, ..., 5, 1, 2],\n",
       "       ...,\n",
       "       [1386, '-1.0', 5, ..., 0, 0, 1],\n",
       "       [1387, '-1.0', 5, ..., 0, 0, 1],\n",
       "       [1388, '-1.0', 5, ..., 0, 0, 1]], dtype=object)"
      ]
     },
     "execution_count": 4,
     "metadata": {},
     "output_type": "execute_result"
    }
   ],
   "source": [
    "dataset = df.values\n",
    "dataset"
   ]
  },
  {
   "cell_type": "code",
   "execution_count": 5,
   "id": "334ea103",
   "metadata": {},
   "outputs": [],
   "source": [
    "X_reg = dataset[:, [2, 3, 5, 6, 7, 8]]\n",
    "y_reg = dataset[:, [1, 4]]"
   ]
  },
  {
   "cell_type": "code",
   "execution_count": 6,
   "id": "740a2b81",
   "metadata": {},
   "outputs": [],
   "source": [
    "X_class_1 = dataset[:, [1, 2, 3, 5, 6, 7, 8]]\n",
    "y_class_1 = dataset[:, 4] # review number\n",
    "X_class_2 = dataset[:, [2, 3, 4, 5, 6, 7, 8]]\n",
    "y_class_2 = dataset[:, 1] # sr-only"
   ]
  },
  {
   "cell_type": "code",
   "execution_count": 7,
   "id": "0c6f9330",
   "metadata": {},
   "outputs": [],
   "source": [
    "# map the name of column for correlation use\n",
    "mapping_x1 = []\n",
    "for i in [1, 2, 3, 5, 6, 7, 8]:\n",
    "    mapping_x1.append(df.columns[i])\n",
    "mapping_x2 = []\n",
    "for i in [2, 3, 4, 5, 6, 7, 8]:\n",
    "    mapping_x2.append(df.columns[i])"
   ]
  },
  {
   "cell_type": "code",
   "execution_count": 8,
   "id": "ce991804",
   "metadata": {},
   "outputs": [],
   "source": [
    "X_reg = X_reg.astype(str)\n",
    "X_class_1 = X_class_1.astype(str)\n",
    "X_class_2 = X_class_2.astype(str)"
   ]
  },
  {
   "cell_type": "markdown",
   "id": "7ad3a1d9",
   "metadata": {},
   "source": [
    "# classification method"
   ]
  },
  {
   "cell_type": "code",
   "execution_count": 9,
   "id": "b5b63248",
   "metadata": {},
   "outputs": [],
   "source": [
    "X_train_class1, X_test_class1, y_train_class1, y_test_class1 = train_test_split(X_class_1, y_class_1, test_size=0.3, random_state=1) # 0.3 testing 0.7 for training\n",
    "X_train_class2, X_test_class2, y_train_class2, y_test_class2 = train_test_split(X_class_2, y_class_2, test_size=0.3, random_state=1)"
   ]
  },
  {
   "cell_type": "code",
   "execution_count": 10,
   "id": "f0ed84d8",
   "metadata": {},
   "outputs": [
    {
     "name": "stdout",
     "output_type": "stream",
     "text": [
      "Train (972, 7) (972,)\n",
      "Test (417, 7) (417,)\n",
      "Train (972, 7) (972,)\n",
      "Test (417, 7) (417,)\n"
     ]
    }
   ],
   "source": [
    "# summarize\n",
    "for i in range(2):\n",
    "    print('Train', vars()['X_train_class'+str(i+1)].shape, vars()['y_train_class'+str(i+1)].shape)\n",
    "    print('Test', vars()['X_test_class'+str(i+1)].shape, vars()['y_test_class'+str(i+1)].shape)"
   ]
  },
  {
   "cell_type": "code",
   "execution_count": 11,
   "id": "c1469b74",
   "metadata": {},
   "outputs": [],
   "source": [
    "# prepare input data use OrdinalEncoder\n",
    "# OrdinalEncoder() from scikit-learn to encode each variable to integers\n",
    "def prepare_inputs(X_train, X_test):\n",
    "    oe = OrdinalEncoder(handle_unknown='use_encoded_value', unknown_value=-1)\n",
    "    oe.fit(X_train)\n",
    "    X_train_enc = oe.transform(X_train)\n",
    "    X_test_enc = oe.transform(X_test)\n",
    "    return X_train_enc, X_test_enc\n",
    "def prepare_targets(y_train, y_test):\n",
    "    le = LabelEncoder()\n",
    "    le.fit(y_train)\n",
    "    y_train_enc = le.transform(y_train)\n",
    "    y_test_enc = le.transform(y_test)\n",
    "    return y_train_enc, y_test_enc"
   ]
  },
  {
   "cell_type": "code",
   "execution_count": 12,
   "id": "c0d827aa",
   "metadata": {},
   "outputs": [],
   "source": [
    "for i in range(2):\n",
    "    vars()['X_train_enc'+str(i + 1)], vars()['X_test_enc'+str(i + 1)] = prepare_inputs(vars()['X_train_class'+str(i + 1)], vars()['X_test_class' + str(i + 1)]) \n",
    "    vars()['y_train_enc'+str(i + 1)], vars()['y_test_enc'+str(i + 1)] = prepare_targets(vars()['y_train_class'+str(i + 1)], vars()['y_test_class' + str(i + 1)]) "
   ]
  },
  {
   "cell_type": "code",
   "execution_count": 13,
   "id": "9cb34e83",
   "metadata": {},
   "outputs": [
    {
     "data": {
      "text/plain": [
       "(972, 7)"
      ]
     },
     "execution_count": 13,
     "metadata": {},
     "output_type": "execute_result"
    }
   ],
   "source": [
    "X_train_enc1.shape"
   ]
  },
  {
   "cell_type": "code",
   "execution_count": 14,
   "id": "c92b4e54",
   "metadata": {},
   "outputs": [
    {
     "data": {
      "text/plain": [
       "array([3., 4., 4., 8., 0., 0., 1.])"
      ]
     },
     "execution_count": 14,
     "metadata": {},
     "output_type": "execute_result"
    }
   ],
   "source": [
    "X_train_enc1[0]"
   ]
  },
  {
   "cell_type": "code",
   "execution_count": 15,
   "id": "945efda1",
   "metadata": {},
   "outputs": [
    {
     "data": {
      "text/html": [
       "<div>\n",
       "<style scoped>\n",
       "    .dataframe tbody tr th:only-of-type {\n",
       "        vertical-align: middle;\n",
       "    }\n",
       "\n",
       "    .dataframe tbody tr th {\n",
       "        vertical-align: top;\n",
       "    }\n",
       "\n",
       "    .dataframe thead th {\n",
       "        text-align: right;\n",
       "    }\n",
       "</style>\n",
       "<table border=\"1\" class=\"dataframe\">\n",
       "  <thead>\n",
       "    <tr style=\"text-align: right;\">\n",
       "      <th></th>\n",
       "      <th>review_number</th>\n",
       "      <th>sr-only</th>\n",
       "      <th>location-info__office-loc 2</th>\n",
       "      <th>location-info__distance</th>\n",
       "      <th>provider_detail</th>\n",
       "      <th>feats</th>\n",
       "      <th>feats1</th>\n",
       "      <th>feats2</th>\n",
       "    </tr>\n",
       "  </thead>\n",
       "  <tbody>\n",
       "    <tr>\n",
       "      <th>0</th>\n",
       "      <td>0</td>\n",
       "      <td>3.0</td>\n",
       "      <td>4.0</td>\n",
       "      <td>4.0</td>\n",
       "      <td>8.0</td>\n",
       "      <td>0.0</td>\n",
       "      <td>0.0</td>\n",
       "      <td>1.0</td>\n",
       "    </tr>\n",
       "    <tr>\n",
       "      <th>1</th>\n",
       "      <td>8</td>\n",
       "      <td>0.0</td>\n",
       "      <td>4.0</td>\n",
       "      <td>0.0</td>\n",
       "      <td>1.0</td>\n",
       "      <td>0.0</td>\n",
       "      <td>0.0</td>\n",
       "      <td>1.0</td>\n",
       "    </tr>\n",
       "    <tr>\n",
       "      <th>2</th>\n",
       "      <td>0</td>\n",
       "      <td>4.0</td>\n",
       "      <td>4.0</td>\n",
       "      <td>4.0</td>\n",
       "      <td>8.0</td>\n",
       "      <td>5.0</td>\n",
       "      <td>1.0</td>\n",
       "      <td>2.0</td>\n",
       "    </tr>\n",
       "    <tr>\n",
       "      <th>3</th>\n",
       "      <td>0</td>\n",
       "      <td>3.0</td>\n",
       "      <td>6.0</td>\n",
       "      <td>0.0</td>\n",
       "      <td>8.0</td>\n",
       "      <td>5.0</td>\n",
       "      <td>1.0</td>\n",
       "      <td>1.0</td>\n",
       "    </tr>\n",
       "    <tr>\n",
       "      <th>4</th>\n",
       "      <td>5</td>\n",
       "      <td>3.0</td>\n",
       "      <td>6.0</td>\n",
       "      <td>0.0</td>\n",
       "      <td>22.0</td>\n",
       "      <td>0.0</td>\n",
       "      <td>0.0</td>\n",
       "      <td>1.0</td>\n",
       "    </tr>\n",
       "    <tr>\n",
       "      <th>...</th>\n",
       "      <td>...</td>\n",
       "      <td>...</td>\n",
       "      <td>...</td>\n",
       "      <td>...</td>\n",
       "      <td>...</td>\n",
       "      <td>...</td>\n",
       "      <td>...</td>\n",
       "      <td>...</td>\n",
       "    </tr>\n",
       "    <tr>\n",
       "      <th>967</th>\n",
       "      <td>8</td>\n",
       "      <td>0.0</td>\n",
       "      <td>4.0</td>\n",
       "      <td>4.0</td>\n",
       "      <td>8.0</td>\n",
       "      <td>0.0</td>\n",
       "      <td>0.0</td>\n",
       "      <td>1.0</td>\n",
       "    </tr>\n",
       "    <tr>\n",
       "      <th>968</th>\n",
       "      <td>8</td>\n",
       "      <td>0.0</td>\n",
       "      <td>8.0</td>\n",
       "      <td>3.0</td>\n",
       "      <td>8.0</td>\n",
       "      <td>0.0</td>\n",
       "      <td>0.0</td>\n",
       "      <td>1.0</td>\n",
       "    </tr>\n",
       "    <tr>\n",
       "      <th>969</th>\n",
       "      <td>0</td>\n",
       "      <td>4.0</td>\n",
       "      <td>4.0</td>\n",
       "      <td>0.0</td>\n",
       "      <td>8.0</td>\n",
       "      <td>5.0</td>\n",
       "      <td>1.0</td>\n",
       "      <td>2.0</td>\n",
       "    </tr>\n",
       "    <tr>\n",
       "      <th>970</th>\n",
       "      <td>0</td>\n",
       "      <td>2.0</td>\n",
       "      <td>5.0</td>\n",
       "      <td>0.0</td>\n",
       "      <td>8.0</td>\n",
       "      <td>1.0</td>\n",
       "      <td>0.0</td>\n",
       "      <td>1.0</td>\n",
       "    </tr>\n",
       "    <tr>\n",
       "      <th>971</th>\n",
       "      <td>8</td>\n",
       "      <td>0.0</td>\n",
       "      <td>6.0</td>\n",
       "      <td>0.0</td>\n",
       "      <td>8.0</td>\n",
       "      <td>0.0</td>\n",
       "      <td>0.0</td>\n",
       "      <td>1.0</td>\n",
       "    </tr>\n",
       "  </tbody>\n",
       "</table>\n",
       "<p>972 rows × 8 columns</p>\n",
       "</div>"
      ],
      "text/plain": [
       "     review_number  sr-only  location-info__office-loc 2  \\\n",
       "0                0      3.0                          4.0   \n",
       "1                8      0.0                          4.0   \n",
       "2                0      4.0                          4.0   \n",
       "3                0      3.0                          6.0   \n",
       "4                5      3.0                          6.0   \n",
       "..             ...      ...                          ...   \n",
       "967              8      0.0                          4.0   \n",
       "968              8      0.0                          8.0   \n",
       "969              0      4.0                          4.0   \n",
       "970              0      2.0                          5.0   \n",
       "971              8      0.0                          6.0   \n",
       "\n",
       "     location-info__distance  provider_detail  feats  feats1  feats2  \n",
       "0                        4.0              8.0    0.0     0.0     1.0  \n",
       "1                        0.0              1.0    0.0     0.0     1.0  \n",
       "2                        4.0              8.0    5.0     1.0     2.0  \n",
       "3                        0.0              8.0    5.0     1.0     1.0  \n",
       "4                        0.0             22.0    0.0     0.0     1.0  \n",
       "..                       ...              ...    ...     ...     ...  \n",
       "967                      4.0              8.0    0.0     0.0     1.0  \n",
       "968                      3.0              8.0    0.0     0.0     1.0  \n",
       "969                      0.0              8.0    5.0     1.0     2.0  \n",
       "970                      0.0              8.0    1.0     0.0     1.0  \n",
       "971                      0.0              8.0    0.0     0.0     1.0  \n",
       "\n",
       "[972 rows x 8 columns]"
      ]
     },
     "execution_count": 15,
     "metadata": {},
     "output_type": "execute_result"
    }
   ],
   "source": [
    "# check the correlation\n",
    "cor = {'review_number': y_train_enc1}\n",
    "for i in range(1, 8):\n",
    "    cor[mapping_x1[i - 1]] = X_train_enc1[:, i - 1]\n",
    "cor = pd.DataFrame(cor)\n",
    "cor"
   ]
  },
  {
   "cell_type": "code",
   "execution_count": 16,
   "id": "0870d74a",
   "metadata": {},
   "outputs": [
    {
     "data": {
      "text/html": [
       "<style type=\"text/css\">\n",
       "#T_8b710_row0_col0, #T_8b710_row1_col1, #T_8b710_row2_col2, #T_8b710_row3_col3, #T_8b710_row4_col4, #T_8b710_row5_col5, #T_8b710_row6_col6, #T_8b710_row7_col7 {\n",
       "  background-color: #b40426;\n",
       "  color: #f1f1f1;\n",
       "}\n",
       "#T_8b710_row0_col1, #T_8b710_row0_col5, #T_8b710_row0_col6, #T_8b710_row0_col7, #T_8b710_row1_col0, #T_8b710_row1_col2, #T_8b710_row2_col3, #T_8b710_row2_col4, #T_8b710_row7_col4 {\n",
       "  background-color: #3b4cc0;\n",
       "  color: #f1f1f1;\n",
       "}\n",
       "#T_8b710_row0_col2, #T_8b710_row6_col4 {\n",
       "  background-color: #5d7ce6;\n",
       "  color: #f1f1f1;\n",
       "}\n",
       "#T_8b710_row0_col3, #T_8b710_row4_col2 {\n",
       "  background-color: #4961d2;\n",
       "  color: #f1f1f1;\n",
       "}\n",
       "#T_8b710_row0_col4, #T_8b710_row5_col2 {\n",
       "  background-color: #4358cb;\n",
       "  color: #f1f1f1;\n",
       "}\n",
       "#T_8b710_row1_col3, #T_8b710_row4_col3 {\n",
       "  background-color: #5b7ae5;\n",
       "  color: #f1f1f1;\n",
       "}\n",
       "#T_8b710_row1_col4, #T_8b710_row5_col3 {\n",
       "  background-color: #5875e1;\n",
       "  color: #f1f1f1;\n",
       "}\n",
       "#T_8b710_row1_col5 {\n",
       "  background-color: #d85646;\n",
       "  color: #f1f1f1;\n",
       "}\n",
       "#T_8b710_row1_col6 {\n",
       "  background-color: #f7b194;\n",
       "  color: #000000;\n",
       "}\n",
       "#T_8b710_row1_col7 {\n",
       "  background-color: #ebd3c6;\n",
       "  color: #000000;\n",
       "}\n",
       "#T_8b710_row2_col0 {\n",
       "  background-color: #cfdaea;\n",
       "  color: #000000;\n",
       "}\n",
       "#T_8b710_row2_col1 {\n",
       "  background-color: #bad0f8;\n",
       "  color: #000000;\n",
       "}\n",
       "#T_8b710_row2_col5 {\n",
       "  background-color: #a9c6fd;\n",
       "  color: #000000;\n",
       "}\n",
       "#T_8b710_row2_col6 {\n",
       "  background-color: #7ea1fa;\n",
       "  color: #f1f1f1;\n",
       "}\n",
       "#T_8b710_row2_col7 {\n",
       "  background-color: #88abfd;\n",
       "  color: #000000;\n",
       "}\n",
       "#T_8b710_row3_col0, #T_8b710_row4_col0 {\n",
       "  background-color: #c9d7f0;\n",
       "  color: #000000;\n",
       "}\n",
       "#T_8b710_row3_col1 {\n",
       "  background-color: #d3dbe7;\n",
       "  color: #000000;\n",
       "}\n",
       "#T_8b710_row3_col2 {\n",
       "  background-color: #4257c9;\n",
       "  color: #f1f1f1;\n",
       "}\n",
       "#T_8b710_row3_col4 {\n",
       "  background-color: #5470de;\n",
       "  color: #f1f1f1;\n",
       "}\n",
       "#T_8b710_row3_col5 {\n",
       "  background-color: #bed2f6;\n",
       "  color: #000000;\n",
       "}\n",
       "#T_8b710_row3_col6 {\n",
       "  background-color: #a2c1ff;\n",
       "  color: #000000;\n",
       "}\n",
       "#T_8b710_row3_col7 {\n",
       "  background-color: #8badfd;\n",
       "  color: #000000;\n",
       "}\n",
       "#T_8b710_row4_col1 {\n",
       "  background-color: #d4dbe6;\n",
       "  color: #000000;\n",
       "}\n",
       "#T_8b710_row4_col5 {\n",
       "  background-color: #b7cff9;\n",
       "  color: #000000;\n",
       "}\n",
       "#T_8b710_row4_col6 {\n",
       "  background-color: #a5c3fe;\n",
       "  color: #000000;\n",
       "}\n",
       "#T_8b710_row4_col7 {\n",
       "  background-color: #80a3fa;\n",
       "  color: #f1f1f1;\n",
       "}\n",
       "#T_8b710_row5_col0 {\n",
       "  background-color: #5a78e4;\n",
       "  color: #f1f1f1;\n",
       "}\n",
       "#T_8b710_row5_col1 {\n",
       "  background-color: #d55042;\n",
       "  color: #f1f1f1;\n",
       "}\n",
       "#T_8b710_row5_col4 {\n",
       "  background-color: #485fd1;\n",
       "  color: #f1f1f1;\n",
       "}\n",
       "#T_8b710_row5_col6 {\n",
       "  background-color: #edd1c2;\n",
       "  color: #000000;\n",
       "}\n",
       "#T_8b710_row5_col7 {\n",
       "  background-color: #f7b89c;\n",
       "  color: #000000;\n",
       "}\n",
       "#T_8b710_row6_col0 {\n",
       "  background-color: #86a9fc;\n",
       "  color: #f1f1f1;\n",
       "}\n",
       "#T_8b710_row6_col1 {\n",
       "  background-color: #f39577;\n",
       "  color: #000000;\n",
       "}\n",
       "#T_8b710_row6_col2 {\n",
       "  background-color: #3e51c5;\n",
       "  color: #f1f1f1;\n",
       "}\n",
       "#T_8b710_row6_col3 {\n",
       "  background-color: #6180e9;\n",
       "  color: #f1f1f1;\n",
       "}\n",
       "#T_8b710_row6_col5 {\n",
       "  background-color: #f5c2aa;\n",
       "  color: #000000;\n",
       "}\n",
       "#T_8b710_row6_col7 {\n",
       "  background-color: #6788ee;\n",
       "  color: #f1f1f1;\n",
       "}\n",
       "#T_8b710_row7_col0 {\n",
       "  background-color: #8db0fe;\n",
       "  color: #000000;\n",
       "}\n",
       "#T_8b710_row7_col1 {\n",
       "  background-color: #f7b79b;\n",
       "  color: #000000;\n",
       "}\n",
       "#T_8b710_row7_col2 {\n",
       "  background-color: #516ddb;\n",
       "  color: #f1f1f1;\n",
       "}\n",
       "#T_8b710_row7_col3 {\n",
       "  background-color: #4e68d8;\n",
       "  color: #f1f1f1;\n",
       "}\n",
       "#T_8b710_row7_col5 {\n",
       "  background-color: #f6a586;\n",
       "  color: #000000;\n",
       "}\n",
       "#T_8b710_row7_col6 {\n",
       "  background-color: #6f92f3;\n",
       "  color: #f1f1f1;\n",
       "}\n",
       "</style>\n",
       "<table id=\"T_8b710\">\n",
       "  <thead>\n",
       "    <tr>\n",
       "      <th class=\"blank level0\" >&nbsp;</th>\n",
       "      <th id=\"T_8b710_level0_col0\" class=\"col_heading level0 col0\" >review_number</th>\n",
       "      <th id=\"T_8b710_level0_col1\" class=\"col_heading level0 col1\" >sr-only</th>\n",
       "      <th id=\"T_8b710_level0_col2\" class=\"col_heading level0 col2\" >location-info__office-loc 2</th>\n",
       "      <th id=\"T_8b710_level0_col3\" class=\"col_heading level0 col3\" >location-info__distance</th>\n",
       "      <th id=\"T_8b710_level0_col4\" class=\"col_heading level0 col4\" >provider_detail</th>\n",
       "      <th id=\"T_8b710_level0_col5\" class=\"col_heading level0 col5\" >feats</th>\n",
       "      <th id=\"T_8b710_level0_col6\" class=\"col_heading level0 col6\" >feats1</th>\n",
       "      <th id=\"T_8b710_level0_col7\" class=\"col_heading level0 col7\" >feats2</th>\n",
       "    </tr>\n",
       "  </thead>\n",
       "  <tbody>\n",
       "    <tr>\n",
       "      <th id=\"T_8b710_level0_row0\" class=\"row_heading level0 row0\" >review_number</th>\n",
       "      <td id=\"T_8b710_row0_col0\" class=\"data row0 col0\" >1.00</td>\n",
       "      <td id=\"T_8b710_row0_col1\" class=\"data row0 col1\" >-0.79</td>\n",
       "      <td id=\"T_8b710_row0_col2\" class=\"data row0 col2\" >0.02</td>\n",
       "      <td id=\"T_8b710_row0_col3\" class=\"data row0 col3\" >-0.03</td>\n",
       "      <td id=\"T_8b710_row0_col4\" class=\"data row0 col4\" >-0.02</td>\n",
       "      <td id=\"T_8b710_row0_col5\" class=\"data row0 col5\" >-0.60</td>\n",
       "      <td id=\"T_8b710_row0_col6\" class=\"data row0 col6\" >-0.38</td>\n",
       "      <td id=\"T_8b710_row0_col7\" class=\"data row0 col7\" >-0.34</td>\n",
       "    </tr>\n",
       "    <tr>\n",
       "      <th id=\"T_8b710_level0_row1\" class=\"row_heading level0 row1\" >sr-only</th>\n",
       "      <td id=\"T_8b710_row1_col0\" class=\"data row1 col0\" >-0.79</td>\n",
       "      <td id=\"T_8b710_row1_col1\" class=\"data row1 col1\" >1.00</td>\n",
       "      <td id=\"T_8b710_row1_col2\" class=\"data row1 col2\" >-0.11</td>\n",
       "      <td id=\"T_8b710_row1_col3\" class=\"data row1 col3\" >0.04</td>\n",
       "      <td id=\"T_8b710_row1_col4\" class=\"data row1 col4\" >0.05</td>\n",
       "      <td id=\"T_8b710_row1_col5\" class=\"data row1 col5\" >0.83</td>\n",
       "      <td id=\"T_8b710_row1_col6\" class=\"data row1 col6\" >0.57</td>\n",
       "      <td id=\"T_8b710_row1_col7\" class=\"data row1 col7\" >0.41</td>\n",
       "    </tr>\n",
       "    <tr>\n",
       "      <th id=\"T_8b710_level0_row2\" class=\"row_heading level0 row2\" >location-info__office-loc 2</th>\n",
       "      <td id=\"T_8b710_row2_col0\" class=\"data row2 col0\" >0.02</td>\n",
       "      <td id=\"T_8b710_row2_col1\" class=\"data row2 col1\" >-0.11</td>\n",
       "      <td id=\"T_8b710_row2_col2\" class=\"data row2 col2\" >1.00</td>\n",
       "      <td id=\"T_8b710_row2_col3\" class=\"data row2 col3\" >-0.08</td>\n",
       "      <td id=\"T_8b710_row2_col4\" class=\"data row2 col4\" >-0.05</td>\n",
       "      <td id=\"T_8b710_row2_col5\" class=\"data row2 col5\" >-0.07</td>\n",
       "      <td id=\"T_8b710_row2_col6\" class=\"data row2 col6\" >-0.09</td>\n",
       "      <td id=\"T_8b710_row2_col7\" class=\"data row2 col7\" >-0.02</td>\n",
       "    </tr>\n",
       "    <tr>\n",
       "      <th id=\"T_8b710_level0_row3\" class=\"row_heading level0 row3\" >location-info__distance</th>\n",
       "      <td id=\"T_8b710_row3_col0\" class=\"data row3 col0\" >-0.03</td>\n",
       "      <td id=\"T_8b710_row3_col1\" class=\"data row3 col1\" >0.04</td>\n",
       "      <td id=\"T_8b710_row3_col2\" class=\"data row3 col2\" >-0.08</td>\n",
       "      <td id=\"T_8b710_row3_col3\" class=\"data row3 col3\" >1.00</td>\n",
       "      <td id=\"T_8b710_row3_col4\" class=\"data row3 col4\" >0.04</td>\n",
       "      <td id=\"T_8b710_row3_col5\" class=\"data row3 col5\" >0.02</td>\n",
       "      <td id=\"T_8b710_row3_col6\" class=\"data row3 col6\" >0.05</td>\n",
       "      <td id=\"T_8b710_row3_col7\" class=\"data row3 col7\" >-0.01</td>\n",
       "    </tr>\n",
       "    <tr>\n",
       "      <th id=\"T_8b710_level0_row4\" class=\"row_heading level0 row4\" >provider_detail</th>\n",
       "      <td id=\"T_8b710_row4_col0\" class=\"data row4 col0\" >-0.02</td>\n",
       "      <td id=\"T_8b710_row4_col1\" class=\"data row4 col1\" >0.05</td>\n",
       "      <td id=\"T_8b710_row4_col2\" class=\"data row4 col2\" >-0.05</td>\n",
       "      <td id=\"T_8b710_row4_col3\" class=\"data row4 col3\" >0.04</td>\n",
       "      <td id=\"T_8b710_row4_col4\" class=\"data row4 col4\" >1.00</td>\n",
       "      <td id=\"T_8b710_row4_col5\" class=\"data row4 col5\" >-0.01</td>\n",
       "      <td id=\"T_8b710_row4_col6\" class=\"data row4 col6\" >0.06</td>\n",
       "      <td id=\"T_8b710_row4_col7\" class=\"data row4 col7\" >-0.05</td>\n",
       "    </tr>\n",
       "    <tr>\n",
       "      <th id=\"T_8b710_level0_row5\" class=\"row_heading level0 row5\" >feats</th>\n",
       "      <td id=\"T_8b710_row5_col0\" class=\"data row5 col0\" >-0.60</td>\n",
       "      <td id=\"T_8b710_row5_col1\" class=\"data row5 col1\" >0.83</td>\n",
       "      <td id=\"T_8b710_row5_col2\" class=\"data row5 col2\" >-0.07</td>\n",
       "      <td id=\"T_8b710_row5_col3\" class=\"data row5 col3\" >0.02</td>\n",
       "      <td id=\"T_8b710_row5_col4\" class=\"data row5 col4\" >-0.01</td>\n",
       "      <td id=\"T_8b710_row5_col5\" class=\"data row5 col5\" >1.00</td>\n",
       "      <td id=\"T_8b710_row5_col6\" class=\"data row5 col6\" >0.41</td>\n",
       "      <td id=\"T_8b710_row5_col7\" class=\"data row5 col7\" >0.55</td>\n",
       "    </tr>\n",
       "    <tr>\n",
       "      <th id=\"T_8b710_level0_row6\" class=\"row_heading level0 row6\" >feats1</th>\n",
       "      <td id=\"T_8b710_row6_col0\" class=\"data row6 col0\" >-0.38</td>\n",
       "      <td id=\"T_8b710_row6_col1\" class=\"data row6 col1\" >0.57</td>\n",
       "      <td id=\"T_8b710_row6_col2\" class=\"data row6 col2\" >-0.09</td>\n",
       "      <td id=\"T_8b710_row6_col3\" class=\"data row6 col3\" >0.05</td>\n",
       "      <td id=\"T_8b710_row6_col4\" class=\"data row6 col4\" >0.06</td>\n",
       "      <td id=\"T_8b710_row6_col5\" class=\"data row6 col5\" >0.41</td>\n",
       "      <td id=\"T_8b710_row6_col6\" class=\"data row6 col6\" >1.00</td>\n",
       "      <td id=\"T_8b710_row6_col7\" class=\"data row6 col7\" >-0.15</td>\n",
       "    </tr>\n",
       "    <tr>\n",
       "      <th id=\"T_8b710_level0_row7\" class=\"row_heading level0 row7\" >feats2</th>\n",
       "      <td id=\"T_8b710_row7_col0\" class=\"data row7 col0\" >-0.34</td>\n",
       "      <td id=\"T_8b710_row7_col1\" class=\"data row7 col1\" >0.41</td>\n",
       "      <td id=\"T_8b710_row7_col2\" class=\"data row7 col2\" >-0.02</td>\n",
       "      <td id=\"T_8b710_row7_col3\" class=\"data row7 col3\" >-0.01</td>\n",
       "      <td id=\"T_8b710_row7_col4\" class=\"data row7 col4\" >-0.05</td>\n",
       "      <td id=\"T_8b710_row7_col5\" class=\"data row7 col5\" >0.55</td>\n",
       "      <td id=\"T_8b710_row7_col6\" class=\"data row7 col6\" >-0.15</td>\n",
       "      <td id=\"T_8b710_row7_col7\" class=\"data row7 col7\" >1.00</td>\n",
       "    </tr>\n",
       "  </tbody>\n",
       "</table>\n"
      ],
      "text/plain": [
       "<pandas.io.formats.style.Styler at 0x14d0cd8b0>"
      ]
     },
     "execution_count": 16,
     "metadata": {},
     "output_type": "execute_result"
    }
   ],
   "source": [
    "cormat = cor.corr(method='pearson')\n",
    "cormat1 = cormat.style.background_gradient(cmap='coolwarm').format(precision=2)\n",
    "# print(cormat1.to_latex())\n",
    "cormat1"
   ]
  },
  {
   "cell_type": "code",
   "execution_count": 17,
   "id": "6e5a0224",
   "metadata": {},
   "outputs": [],
   "source": [
    "# dfi.export(cormat1, '/Users/jennyhuang/Documents/jobs/DBC-AI Launch/project2-MDdataCleaning/model/correlation.png')"
   ]
  },
  {
   "cell_type": "code",
   "execution_count": 18,
   "id": "9cf61363",
   "metadata": {},
   "outputs": [
    {
     "data": {
      "text/plain": [
       "(972,)"
      ]
     },
     "execution_count": 18,
     "metadata": {},
     "output_type": "execute_result"
    }
   ],
   "source": [
    "y_train_enc1.shape"
   ]
  },
  {
   "cell_type": "code",
   "execution_count": 19,
   "id": "4d81c85e",
   "metadata": {},
   "outputs": [
    {
     "data": {
      "text/plain": [
       "(972,)"
      ]
     },
     "execution_count": 19,
     "metadata": {},
     "output_type": "execute_result"
    }
   ],
   "source": [
    "y_train_enc2.shape"
   ]
  },
  {
   "cell_type": "code",
   "execution_count": 20,
   "id": "d2b32c6d",
   "metadata": {},
   "outputs": [],
   "source": [
    "def select_features(X_train, y_train, X_test):\n",
    "    fs = SelectKBest(score_func=chi2, k='all')\n",
    "    fs.fit(X_train, y_train)\n",
    "    X_train_fs = fs.transform(X_train) # Reduce X to the selected features.\n",
    "    X_test_fs = fs.transform(X_test)\n",
    "    return X_train_fs, X_test_fs, fs"
   ]
  },
  {
   "cell_type": "code",
   "execution_count": 21,
   "id": "d2005317",
   "metadata": {},
   "outputs": [
    {
     "data": {
      "text/plain": [
       "{0: 'sr-only',\n",
       " 1: 'location-info__office-loc 2',\n",
       " 2: 'location-info__distance',\n",
       " 3: 'review_number',\n",
       " 4: 'provider_detail',\n",
       " 5: 'feats',\n",
       " 6: 'feats1',\n",
       " 7: 'feats2'}"
      ]
     },
     "execution_count": 21,
     "metadata": {},
     "output_type": "execute_result"
    }
   ],
   "source": [
    "feature_name = {}\n",
    "names = df.columns\n",
    "for i in range(1, len(names)):\n",
    "    feature_name[i - 1] = names[i]\n",
    "feature_name"
   ]
  },
  {
   "cell_type": "code",
   "execution_count": 22,
   "id": "173bf910",
   "metadata": {},
   "outputs": [
    {
     "name": "stdout",
     "output_type": "stream",
     "text": [
      "Feature 0: 1032.803508\n",
      "Feature 1: 33.323659\n",
      "Feature 2: 7.047352\n",
      "Feature 3: 39.189656\n",
      "Feature 4: 1002.285728\n",
      "Feature 5: 371.851265\n",
      "Feature 6: 61.007442\n"
     ]
    },
    {
     "data": {
      "image/png": "[encoded data removed]",
      "text/plain": [
       "<Figure size 432x288 with 1 Axes>"
      ]
     },
     "metadata": {
      "needs_background": "light"
     },
     "output_type": "display_data"
    }
   ],
   "source": [
    "# feature selection for y_train_enc1 (review_number)\n",
    "X_train_fs1, X_test_fs1, fs1 = select_features(X_train_enc1, y_train_enc1, X_test_enc1)\n",
    "# what are scores for the features\n",
    "for i in range(len(fs1.scores_)):\n",
    "    print('Feature %d: %f' % (i, fs1.scores_[i]))\n",
    "# plot the scores\n",
    "plt.bar([i for i in range(len(fs1.scores_))], fs1.scores_)\n",
    "plt.xlabel('Feature names')\n",
    "plt.ylabel('Score')\n",
    "plt.savefig('/Users/jennyhuang/Documents/jobs/DBC-AI Launch/project2-MDdataCleaning/model/feature1.png', bbox_inches='tight')\n",
    "# result shows that the sr-only effects review_number mostly, then feats 2 then location info2"
   ]
  },
  {
   "cell_type": "code",
   "execution_count": 23,
   "id": "53247515",
   "metadata": {
    "scrolled": false
   },
   "outputs": [
    {
     "name": "stdout",
     "output_type": "stream",
     "text": [
      "Feature 0: 18.927337\n",
      "Feature 1: 3.200193\n",
      "Feature 2: 2779.373843\n",
      "Feature 3: 17.756385\n",
      "Feature 4: 1330.800413\n",
      "Feature 5: 534.199561\n",
      "Feature 6: 93.874274\n"
     ]
    },
    {
     "data": {
      "image/png": "[encoded data removed]",
      "text/plain": [
       "<Figure size 432x288 with 1 Axes>"
      ]
     },
     "metadata": {
      "needs_background": "light"
     },
     "output_type": "display_data"
    }
   ],
   "source": [
    "# feature selection for y_train_enc2 (sr-only)\n",
    "X_train_fs2, X_test_fs2, fs2 = select_features(X_train_enc2, y_train_enc2, X_test_enc2)\n",
    "# what are scores for the features\n",
    "for i in range(len(fs2.scores_)):\n",
    "    print('Feature %d: %f' % (i, fs2.scores_[i]))\n",
    "# plot the scores\n",
    "plt.bar([i for i in range(len(fs2.scores_))], fs2.scores_)\n",
    "plt.xlabel('Feature names')\n",
    "plt.ylabel('Score')\n",
    "plt.savefig('/Users/jennyhuang/Documents/jobs/DBC-AI Launch/project2-MDdataCleaning/model/feature2.png', bbox_inches='tight')\n",
    "# plt.show()\n",
    "# the result shows the review_number effects sr-only the most, then location info 2 then feats 2"
   ]
  },
  {
   "cell_type": "markdown",
   "id": "2f0dd8a5",
   "metadata": {},
   "source": [
    "## decision tree classification model"
   ]
  },
  {
   "cell_type": "code",
   "execution_count": 24,
   "id": "3dbbaa30",
   "metadata": {
    "scrolled": true
   },
   "outputs": [
    {
     "name": "stdout",
     "output_type": "stream",
     "text": [
      "Accuracy: 77.94%\n"
     ]
    }
   ],
   "source": [
    "# fit the model for review_number\n",
    "model = DecisionTreeClassifier()\n",
    "model.fit(X_train_fs1, y_train_enc1)\n",
    "# evaluate the model\n",
    "yhat = model.predict(X_test_fs1)\n",
    "# evaluate predictions\n",
    "accuracy = accuracy_score(y_test_enc1, yhat)\n",
    "print('Accuracy: %.2f' % (accuracy*100) + '%') # 79.38%\n",
    "# error = mean_absolute_error(y_test_enc1, yhat)\n",
    "# print('MAE: %.3f' % (error))"
   ]
  },
  {
   "cell_type": "code",
   "execution_count": 25,
   "id": "3757dc50",
   "metadata": {},
   "outputs": [
    {
     "name": "stdout",
     "output_type": "stream",
     "text": [
      "Accuracy: 90.65%\n"
     ]
    }
   ],
   "source": [
    "# fit the model for sr-only\n",
    "model = DecisionTreeClassifier()\n",
    "model.fit(X_train_fs2, y_train_enc2)\n",
    "# evaluate the model\n",
    "yhat = model.predict(X_test_fs2)\n",
    "# evaluate predictions\n",
    "accuracy = accuracy_score(y_test_enc2, yhat)\n",
    "print('Accuracy: %.2f' % (accuracy*100) + '%') # 83.21%\n",
    "# error = mean_absolute_error(y_test_enc1, yhat)\n",
    "# print('MAE: %.3f' % (error))"
   ]
  },
  {
   "cell_type": "markdown",
   "id": "934d925a",
   "metadata": {},
   "source": [
    "## try rfe with DecisionTreeClassifier"
   ]
  },
  {
   "cell_type": "code",
   "execution_count": 26,
   "id": "e91f2b64",
   "metadata": {
    "scrolled": true
   },
   "outputs": [
    {
     "name": "stderr",
     "output_type": "stream",
     "text": [
      "/Users/jennyhuang/yes/lib/python3.9/site-packages/sklearn/model_selection/_split.py:700: UserWarning: The least populated class in y has only 1 members, which is less than n_splits=2.\n",
      "  warnings.warn(\n",
      "/Users/jennyhuang/yes/lib/python3.9/site-packages/sklearn/model_selection/_split.py:700: UserWarning: The least populated class in y has only 1 members, which is less than n_splits=2.\n",
      "  warnings.warn(\n",
      "/Users/jennyhuang/yes/lib/python3.9/site-packages/sklearn/model_selection/_split.py:700: UserWarning: The least populated class in y has only 1 members, which is less than n_splits=2.\n",
      "  warnings.warn(\n"
     ]
    },
    {
     "name": "stdout",
     "output_type": "stream",
     "text": [
      "Accuracy: 0.801 (0.012)\n",
      "MAE: 0.100 (0.016)\n"
     ]
    }
   ],
   "source": [
    "rfe = RFE(estimator=DecisionTreeClassifier(), n_features_to_select=3)\n",
    "model = DecisionTreeClassifier()\n",
    "pipeline = Pipeline(steps=[('s',rfe),('m',model)])\n",
    "# evaluate model\n",
    "cv = RepeatedStratifiedKFold(n_splits=2, n_repeats=3, random_state=1) # If your target variable is continuous then use simple KFold cross validation instead of StratifiedKFold.\n",
    "n_scores = cross_val_score(pipeline, X_train_enc1, y_train_enc1, scoring='accuracy', cv=cv, n_jobs=-1, error_score='raise')\n",
    "n_scores1 = cross_val_score(pipeline, X_train_enc2, y_train_enc2, scoring='neg_mean_absolute_error', cv=cv, n_jobs=-1, error_score='raise')\n",
    "# report performance\n",
    "print(\"Accuracy: %.3f (%.3f)\" % (mean(n_scores), std(n_scores)))\n",
    "n_scores1 = absolute(n_scores1)\n",
    "print(\"MAE: %.3f (%.3f)\" % (mean(n_scores1), std(n_scores1)))"
   ]
  },
  {
   "cell_type": "code",
   "execution_count": 27,
   "id": "7dd51ffd",
   "metadata": {},
   "outputs": [
    {
     "name": "stdout",
     "output_type": "stream",
     "text": [
      "Column: 0, Selected True, Rank: 1.000\n",
      "Column: 1, Selected True, Rank: 1.000\n",
      "Column: 2, Selected True, Rank: 1.000\n",
      "Column: 3, Selected False, Rank: 3.000\n",
      "Column: 4, Selected False, Rank: 4.000\n",
      "Column: 5, Selected False, Rank: 5.000\n",
      "Column: 6, Selected False, Rank: 2.000\n"
     ]
    }
   ],
   "source": [
    "rfe.fit(X_train_enc1, y_train_enc1)\n",
    "# summarize all features\n",
    "for i in range(X_train_enc1.shape[1]):\n",
    "    print('Column: %d, Selected %s, Rank: %.3f' % (i, rfe.support_[i], rfe.ranking_[i]))"
   ]
  },
  {
   "cell_type": "code",
   "execution_count": 28,
   "id": "a3d01554",
   "metadata": {},
   "outputs": [
    {
     "name": "stdout",
     "output_type": "stream",
     "text": [
      "Accuracy: 0.912 (0.018)\n",
      "MAE: 0.102 (0.017)\n"
     ]
    }
   ],
   "source": [
    "rfe = RFE(estimator=DecisionTreeClassifier(), n_features_to_select=3)\n",
    "model = DecisionTreeClassifier()\n",
    "pipeline = Pipeline(steps=[('s',rfe),('m',model)])\n",
    "# evaluate model\n",
    "cv = RepeatedStratifiedKFold(n_splits=2, n_repeats=3, random_state=1) # If your target variable is continuous then use simple KFold cross validation instead of StratifiedKFold.\n",
    "n_scores = cross_val_score(pipeline, X_train_enc2, y_train_enc2, scoring='accuracy', cv=cv, n_jobs=-1, error_score='raise')\n",
    "n_scores1 = cross_val_score(pipeline, X_train_enc2, y_train_enc2, scoring='neg_mean_absolute_error', cv=cv, n_jobs=-1, error_score='raise')\n",
    "# report performance\n",
    "print(\"Accuracy: %.3f (%.3f)\" % (mean(n_scores), std(n_scores)))\n",
    "n_scores1 = absolute(n_scores1)\n",
    "print(\"MAE: %.3f (%.3f)\" % (mean(n_scores1), std(n_scores1)))"
   ]
  },
  {
   "cell_type": "code",
   "execution_count": 29,
   "id": "e3d8a637",
   "metadata": {},
   "outputs": [
    {
     "name": "stdout",
     "output_type": "stream",
     "text": [
      "Column: 0, Selected False, Rank: 2.000\n",
      "Column: 1, Selected False, Rank: 4.000\n",
      "Column: 2, Selected True, Rank: 1.000\n",
      "Column: 3, Selected False, Rank: 5.000\n",
      "Column: 4, Selected False, Rank: 3.000\n",
      "Column: 5, Selected True, Rank: 1.000\n",
      "Column: 6, Selected True, Rank: 1.000\n"
     ]
    }
   ],
   "source": [
    "rfe.fit(X_train_enc2, y_train_enc2)\n",
    "# summarize all features\n",
    "for i in range(X_train_enc1.shape[1]):\n",
    "    print('Column: %d, Selected %s, Rank: %.3f' % (i, rfe.support_[i], rfe.ranking_[i]))"
   ]
  },
  {
   "cell_type": "code",
   "execution_count": 30,
   "id": "065e92eb",
   "metadata": {},
   "outputs": [
    {
     "data": {
      "text/plain": [
       "{0: 'sr-only',\n",
       " 1: 'location-info__office-loc 2',\n",
       " 2: 'location-info__distance',\n",
       " 3: 'review_number',\n",
       " 4: 'provider_detail',\n",
       " 5: 'feats',\n",
       " 6: 'feats1',\n",
       " 7: 'feats2'}"
      ]
     },
     "execution_count": 30,
     "metadata": {},
     "output_type": "execute_result"
    }
   ],
   "source": [
    "feature_name"
   ]
  },
  {
   "cell_type": "code",
   "execution_count": 31,
   "id": "d60aea87",
   "metadata": {},
   "outputs": [
    {
     "data": {
      "text/plain": [
       "(972, 7)"
      ]
     },
     "execution_count": 31,
     "metadata": {},
     "output_type": "execute_result"
    }
   ],
   "source": [
    "X_train_enc1.shape"
   ]
  },
  {
   "cell_type": "markdown",
   "id": "7139fd5a",
   "metadata": {},
   "source": [
    "# regression method"
   ]
  },
  {
   "cell_type": "code",
   "execution_count": 32,
   "id": "2e12f83d",
   "metadata": {},
   "outputs": [
    {
     "data": {
      "text/plain": [
       "Index(['Unnamed: 0', 'sr-only', 'location-info__office-loc 2',\n",
       "       'location-info__distance', 'review_number', 'provider_detail', 'feats',\n",
       "       'feats1', 'feats2'],\n",
       "      dtype='object')"
      ]
     },
     "execution_count": 32,
     "metadata": {},
     "output_type": "execute_result"
    }
   ],
   "source": [
    "names"
   ]
  },
  {
   "cell_type": "code",
   "execution_count": 33,
   "id": "2816c227",
   "metadata": {},
   "outputs": [],
   "source": [
    "X_train_reg, X_test_reg, y_train_reg, y_test_reg = train_test_split(X_reg, y_reg, test_size=0.3, random_state=1) # 0.3 testing 0.7 for training"
   ]
  },
  {
   "cell_type": "code",
   "execution_count": 34,
   "id": "0c5ed10a",
   "metadata": {},
   "outputs": [],
   "source": [
    "X_train_enc, X_test_enc = prepare_inputs(X_train_reg, X_test_reg)\n",
    "y_train_enc = np.append([y_train_enc1], [y_train_enc2], axis=0)"
   ]
  },
  {
   "cell_type": "code",
   "execution_count": 35,
   "id": "ccfdb0ed",
   "metadata": {},
   "outputs": [],
   "source": [
    "y_train_enc = y_train_enc.transpose()"
   ]
  },
  {
   "cell_type": "markdown",
   "id": "778b7a29",
   "metadata": {},
   "source": [
    "## without feature selection(RFE)"
   ]
  },
  {
   "cell_type": "code",
   "execution_count": 36,
   "id": "cc75d7c5",
   "metadata": {},
   "outputs": [
    {
     "name": "stdout",
     "output_type": "stream",
     "text": [
      "MAE: 1.212 (0.124)\n"
     ]
    }
   ],
   "source": [
    "model = DecisionTreeRegressor()\n",
    "# evaluate model\n",
    "cv = RepeatedKFold(n_splits=10, n_repeats=3, random_state=1) # If your target variable is continuous then use simple KFold cross validation instead of StratifiedKFold.\n",
    "n_scores = cross_val_score(model, X_train_enc, y_train_enc, scoring='neg_mean_absolute_error', cv=cv, n_jobs=-1)\n",
    "n_scores = absolute(n_scores)\n",
    "# report performance\n",
    "print('MAE: %.3f (%.3f)' % (mean(n_scores), std(n_scores)))"
   ]
  },
  {
   "cell_type": "markdown",
   "id": "229ad9a4",
   "metadata": {},
   "source": [
    "## with feature selection(RFE)"
   ]
  },
  {
   "cell_type": "code",
   "execution_count": 37,
   "id": "bcef899b",
   "metadata": {},
   "outputs": [
    {
     "name": "stdout",
     "output_type": "stream",
     "text": [
      "MAE: 1.306 (0.129)\n"
     ]
    }
   ],
   "source": [
    "rfe = RFE(estimator=DecisionTreeRegressor(), n_features_to_select=3)\n",
    "model = DecisionTreeRegressor()\n",
    "pipeline = Pipeline(steps=[('s',rfe),('m',model)])\n",
    "# evaluate model\n",
    "cv = RepeatedKFold(n_splits=10, n_repeats=3, random_state=1)\n",
    "n_scores = cross_val_score(pipeline, X_train_enc, y_train_enc, scoring='neg_mean_absolute_error', cv=cv, n_jobs=-1, error_score='raise')\n",
    "n_scores = absolute(n_scores)\n",
    "# report performance\n",
    "print('MAE: %.3f (%.3f)' % (mean(n_scores), std(n_scores)))"
   ]
  },
  {
   "cell_type": "code",
   "execution_count": 38,
   "id": "e6600cbc",
   "metadata": {},
   "outputs": [
    {
     "name": "stdout",
     "output_type": "stream",
     "text": [
      "Column: 0, Selected True, Rank: 1.000\n",
      "Column: 1, Selected True, Rank: 1.000\n",
      "Column: 2, Selected False, Rank: 2.000\n",
      "Column: 3, Selected True, Rank: 1.000\n",
      "Column: 4, Selected False, Rank: 3.000\n",
      "Column: 5, Selected False, Rank: 4.000\n"
     ]
    }
   ],
   "source": [
    "# see the feature selection result\n",
    "rfe.fit(X_train_enc, y_train_enc)\n",
    "for i in range(X_train_enc.shape[1]):\n",
    "    print('Column: %d, Selected %s, Rank: %.3f' % (i, rfe.support_[i], rfe.ranking_[i]))"
   ]
  },
  {
   "cell_type": "code",
   "execution_count": 39,
   "id": "9111d83c",
   "metadata": {},
   "outputs": [
    {
     "name": "stdout",
     "output_type": "stream",
     "text": [
      "MAE: 1.384 (0.105)\n"
     ]
    }
   ],
   "source": [
    "rfe = RFE(estimator=DecisionTreeRegressor(), n_features_to_select=1)\n",
    "model = DecisionTreeRegressor()\n",
    "pipeline = Pipeline(steps=[('s',rfe),('m',model)])\n",
    "# evaluate model\n",
    "cv = RepeatedKFold(n_splits=10, n_repeats=3, random_state=1)\n",
    "n_scores = cross_val_score(pipeline, X_train_enc, y_train_enc, scoring='neg_mean_absolute_error', cv=cv, n_jobs=-1, error_score='raise')\n",
    "n_scores = absolute(n_scores)\n",
    "# report performance\n",
    "print('MAE: %.3f (%.3f)' % (mean(n_scores), std(n_scores)))"
   ]
  },
  {
   "cell_type": "code",
   "execution_count": 40,
   "id": "15077fff",
   "metadata": {},
   "outputs": [
    {
     "name": "stdout",
     "output_type": "stream",
     "text": [
      "Column: 0, Selected False, Rank: 2.000\n",
      "Column: 1, Selected False, Rank: 3.000\n",
      "Column: 2, Selected False, Rank: 4.000\n",
      "Column: 3, Selected True, Rank: 1.000\n",
      "Column: 4, Selected False, Rank: 5.000\n",
      "Column: 5, Selected False, Rank: 6.000\n"
     ]
    }
   ],
   "source": [
    "# see the feature selection result\n",
    "rfe.fit(X_train_enc, y_train_enc)\n",
    "for i in range(X_train_enc.shape[1]):\n",
    "    print('Column: %d, Selected %s, Rank: %.3f' % (i, rfe.support_[i], rfe.ranking_[i]))"
   ]
  },
  {
   "cell_type": "code",
   "execution_count": 41,
   "id": "d9930e99",
   "metadata": {},
   "outputs": [
    {
     "name": "stdout",
     "output_type": "stream",
     "text": [
      "MAE: 1.336 (0.102)\n"
     ]
    }
   ],
   "source": [
    "rfe = RFE(estimator=DecisionTreeRegressor(), n_features_to_select=2)\n",
    "model = DecisionTreeRegressor()\n",
    "pipeline = Pipeline(steps=[('s',rfe),('m',model)])\n",
    "# evaluate model\n",
    "cv = RepeatedKFold(n_splits=10, n_repeats=3, random_state=1)\n",
    "n_scores = cross_val_score(pipeline, X_train_enc, y_train_enc, scoring='neg_mean_absolute_error', cv=cv, n_jobs=-1, error_score='raise')\n",
    "n_scores = absolute(n_scores)\n",
    "# report performance\n",
    "print('MAE: %.3f (%.3f)' % (mean(n_scores), std(n_scores)))"
   ]
  },
  {
   "cell_type": "code",
   "execution_count": 42,
   "id": "fb21e4b4",
   "metadata": {},
   "outputs": [
    {
     "name": "stdout",
     "output_type": "stream",
     "text": [
      "Column: 0, Selected True, Rank: 1.000\n",
      "Column: 1, Selected False, Rank: 2.000\n",
      "Column: 2, Selected False, Rank: 3.000\n",
      "Column: 3, Selected True, Rank: 1.000\n",
      "Column: 4, Selected False, Rank: 4.000\n",
      "Column: 5, Selected False, Rank: 5.000\n"
     ]
    }
   ],
   "source": [
    "# see the feature selection result\n",
    "rfe.fit(X_train_enc, y_train_enc)\n",
    "for i in range(X_train_enc.shape[1]):\n",
    "    print('Column: %d, Selected %s, Rank: %.3f' % (i, rfe.support_[i], rfe.ranking_[i]))"
   ]
  },
  {
   "cell_type": "code",
   "execution_count": null,
   "id": "8572de05",
   "metadata": {},
   "outputs": [],
   "source": []
  },
  {
   "cell_type": "code",
   "execution_count": null,
   "id": "a681ca79",
   "metadata": {},
   "outputs": [],
   "source": []
  }
 ],
 "metadata": {
  "kernelspec": {
   "display_name": "Python 3 (ipykernel)",
   "language": "python",
   "name": "python3"
  },
  "language_info": {
   "codemirror_mode": {
    "name": "ipython",
    "version": 3
   },
   "file_extension": ".py",
   "mimetype": "text/x-python",
   "name": "python",
   "nbconvert_exporter": "python",
   "pygments_lexer": "ipython3",
   "version": "3.9.13"
  }
 },
 "nbformat": 4,
 "nbformat_minor": 5
}
